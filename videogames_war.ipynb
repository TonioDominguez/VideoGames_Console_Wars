{
 "cells": [
  {
   "cell_type": "markdown",
   "id": "5c66aa66-e0b1-43b8-85b5-f25bc84143a3",
   "metadata": {},
   "source": [
    "<h1 style=\"color: #492c68;\">01 | PREPROCESSING</h1>"
   ]
  },
  {
   "cell_type": "markdown",
   "id": "0b5f857b-ef53-45fc-ad7a-7813ec7161d7",
   "metadata": {
    "tags": []
   },
   "source": [
    "<h2 style=\"color: #327a81;\">Libraries</h2>"
   ]
  },
  {
   "cell_type": "code",
   "execution_count": 1,
   "id": "c00c9ef7-d3ca-492c-9eb5-30915eb61b53",
   "metadata": {
    "tags": []
   },
   "outputs": [],
   "source": [
    "## Basic libraries\n",
    "\n",
    "import pandas as pd\n",
    "import numpy as np\n",
    "import matplotlib.pyplot as plt\n",
    "import matplotlib.dates as mdates\n",
    "import seaborn as sns\n",
    "\n",
    "## Settings\n",
    "pd.set_option('display.max_columns', None) # display all columns\n",
    "import warnings\n",
    "warnings.filterwarnings('ignore') # ignore warnings"
   ]
  },
  {
   "cell_type": "markdown",
   "id": "7262f225-d22f-463a-b0bc-42aad1b3c28a",
   "metadata": {},
   "source": [
    "<h2 style=\"color: #327a81;\">Data Standardization</h2>"
   ]
  },
  {
   "cell_type": "code",
   "execution_count": 2,
   "id": "40a8e95a-6132-4a88-82c9-9e5111882c25",
   "metadata": {
    "tags": []
   },
   "outputs": [],
   "source": [
    "data = pd.read_csv(\"vg_war_data.csv\", index_col=0)"
   ]
  },
  {
   "cell_type": "code",
   "execution_count": 3,
   "id": "cace8cf8-9600-49fc-b510-b21ee456f4df",
   "metadata": {
    "tags": []
   },
   "outputs": [
    {
     "data": {
      "text/html": [
       "<div>\n",
       "<style scoped>\n",
       "    .dataframe tbody tr th:only-of-type {\n",
       "        vertical-align: middle;\n",
       "    }\n",
       "\n",
       "    .dataframe tbody tr th {\n",
       "        vertical-align: top;\n",
       "    }\n",
       "\n",
       "    .dataframe thead th {\n",
       "        text-align: right;\n",
       "    }\n",
       "</style>\n",
       "<table border=\"1\" class=\"dataframe\">\n",
       "  <thead>\n",
       "    <tr style=\"text-align: right;\">\n",
       "      <th></th>\n",
       "      <th>title</th>\n",
       "      <th>console</th>\n",
       "      <th>genre</th>\n",
       "      <th>publisher</th>\n",
       "      <th>developer</th>\n",
       "      <th>critic_score</th>\n",
       "      <th>total_sales</th>\n",
       "      <th>na_sales</th>\n",
       "      <th>jp_sales</th>\n",
       "      <th>pal_sales</th>\n",
       "      <th>other_sales</th>\n",
       "      <th>release_date</th>\n",
       "      <th>last_update</th>\n",
       "    </tr>\n",
       "  </thead>\n",
       "  <tbody>\n",
       "    <tr>\n",
       "      <th>0</th>\n",
       "      <td>Grand Theft Auto V</td>\n",
       "      <td>PS3</td>\n",
       "      <td>Action</td>\n",
       "      <td>Rockstar Games</td>\n",
       "      <td>Rockstar North</td>\n",
       "      <td>9.4</td>\n",
       "      <td>20.32</td>\n",
       "      <td>6.37</td>\n",
       "      <td>0.99</td>\n",
       "      <td>9.85</td>\n",
       "      <td>3.12</td>\n",
       "      <td>2013-09-17</td>\n",
       "      <td>NaN</td>\n",
       "    </tr>\n",
       "    <tr>\n",
       "      <th>1</th>\n",
       "      <td>Grand Theft Auto V</td>\n",
       "      <td>PS4</td>\n",
       "      <td>Action</td>\n",
       "      <td>Rockstar Games</td>\n",
       "      <td>Rockstar North</td>\n",
       "      <td>9.7</td>\n",
       "      <td>19.39</td>\n",
       "      <td>6.06</td>\n",
       "      <td>0.60</td>\n",
       "      <td>9.71</td>\n",
       "      <td>3.02</td>\n",
       "      <td>2014-11-18</td>\n",
       "      <td>2018-01-03</td>\n",
       "    </tr>\n",
       "    <tr>\n",
       "      <th>2</th>\n",
       "      <td>Grand Theft Auto: Vice City</td>\n",
       "      <td>PS2</td>\n",
       "      <td>Action</td>\n",
       "      <td>Rockstar Games</td>\n",
       "      <td>Rockstar North</td>\n",
       "      <td>9.6</td>\n",
       "      <td>16.15</td>\n",
       "      <td>8.41</td>\n",
       "      <td>0.47</td>\n",
       "      <td>5.49</td>\n",
       "      <td>1.78</td>\n",
       "      <td>2002-10-28</td>\n",
       "      <td>NaN</td>\n",
       "    </tr>\n",
       "    <tr>\n",
       "      <th>3</th>\n",
       "      <td>Grand Theft Auto V</td>\n",
       "      <td>X360</td>\n",
       "      <td>Action</td>\n",
       "      <td>Rockstar Games</td>\n",
       "      <td>Rockstar North</td>\n",
       "      <td>NaN</td>\n",
       "      <td>15.86</td>\n",
       "      <td>9.06</td>\n",
       "      <td>0.06</td>\n",
       "      <td>5.33</td>\n",
       "      <td>1.42</td>\n",
       "      <td>2013-09-17</td>\n",
       "      <td>NaN</td>\n",
       "    </tr>\n",
       "    <tr>\n",
       "      <th>4</th>\n",
       "      <td>Call of Duty: Black Ops 3</td>\n",
       "      <td>PS4</td>\n",
       "      <td>Shooter</td>\n",
       "      <td>Activision</td>\n",
       "      <td>Treyarch</td>\n",
       "      <td>8.1</td>\n",
       "      <td>15.09</td>\n",
       "      <td>6.18</td>\n",
       "      <td>0.41</td>\n",
       "      <td>6.05</td>\n",
       "      <td>2.44</td>\n",
       "      <td>2015-11-06</td>\n",
       "      <td>2018-01-14</td>\n",
       "    </tr>\n",
       "    <tr>\n",
       "      <th>...</th>\n",
       "      <td>...</td>\n",
       "      <td>...</td>\n",
       "      <td>...</td>\n",
       "      <td>...</td>\n",
       "      <td>...</td>\n",
       "      <td>...</td>\n",
       "      <td>...</td>\n",
       "      <td>...</td>\n",
       "      <td>...</td>\n",
       "      <td>...</td>\n",
       "      <td>...</td>\n",
       "      <td>...</td>\n",
       "      <td>...</td>\n",
       "    </tr>\n",
       "    <tr>\n",
       "      <th>64011</th>\n",
       "      <td>XBlaze Lost: Memories</td>\n",
       "      <td>PC</td>\n",
       "      <td>Visual Novel</td>\n",
       "      <td>Aksys Games</td>\n",
       "      <td>Arc System Works</td>\n",
       "      <td>NaN</td>\n",
       "      <td>NaN</td>\n",
       "      <td>NaN</td>\n",
       "      <td>NaN</td>\n",
       "      <td>NaN</td>\n",
       "      <td>NaN</td>\n",
       "      <td>2016-08-11</td>\n",
       "      <td>2019-01-28</td>\n",
       "    </tr>\n",
       "    <tr>\n",
       "      <th>64012</th>\n",
       "      <td>Yoru, Tomosu</td>\n",
       "      <td>PS4</td>\n",
       "      <td>Visual Novel</td>\n",
       "      <td>Nippon Ichi Software</td>\n",
       "      <td>Nippon Ichi Software</td>\n",
       "      <td>NaN</td>\n",
       "      <td>NaN</td>\n",
       "      <td>NaN</td>\n",
       "      <td>NaN</td>\n",
       "      <td>NaN</td>\n",
       "      <td>NaN</td>\n",
       "      <td>2020-07-30</td>\n",
       "      <td>2020-05-09</td>\n",
       "    </tr>\n",
       "    <tr>\n",
       "      <th>64013</th>\n",
       "      <td>Yoru, Tomosu</td>\n",
       "      <td>NS</td>\n",
       "      <td>Visual Novel</td>\n",
       "      <td>Nippon Ichi Software</td>\n",
       "      <td>Nippon Ichi Software</td>\n",
       "      <td>NaN</td>\n",
       "      <td>NaN</td>\n",
       "      <td>NaN</td>\n",
       "      <td>NaN</td>\n",
       "      <td>NaN</td>\n",
       "      <td>NaN</td>\n",
       "      <td>2020-07-30</td>\n",
       "      <td>2020-05-09</td>\n",
       "    </tr>\n",
       "    <tr>\n",
       "      <th>64014</th>\n",
       "      <td>Yunohana SpRING! ~Mellow Times~</td>\n",
       "      <td>NS</td>\n",
       "      <td>Visual Novel</td>\n",
       "      <td>Idea Factory</td>\n",
       "      <td>Otomate</td>\n",
       "      <td>NaN</td>\n",
       "      <td>NaN</td>\n",
       "      <td>NaN</td>\n",
       "      <td>NaN</td>\n",
       "      <td>NaN</td>\n",
       "      <td>NaN</td>\n",
       "      <td>2019-02-28</td>\n",
       "      <td>2019-02-24</td>\n",
       "    </tr>\n",
       "    <tr>\n",
       "      <th>64015</th>\n",
       "      <td>Yurukill: The Calumniation Games</td>\n",
       "      <td>PS4</td>\n",
       "      <td>Visual Novel</td>\n",
       "      <td>Unknown</td>\n",
       "      <td>G.rev Ltd.</td>\n",
       "      <td>NaN</td>\n",
       "      <td>NaN</td>\n",
       "      <td>NaN</td>\n",
       "      <td>NaN</td>\n",
       "      <td>NaN</td>\n",
       "      <td>NaN</td>\n",
       "      <td>NaN</td>\n",
       "      <td>2023-09-29</td>\n",
       "    </tr>\n",
       "  </tbody>\n",
       "</table>\n",
       "<p>64016 rows × 13 columns</p>\n",
       "</div>"
      ],
      "text/plain": [
       "                                  title console         genre  \\\n",
       "0                    Grand Theft Auto V     PS3        Action   \n",
       "1                    Grand Theft Auto V     PS4        Action   \n",
       "2           Grand Theft Auto: Vice City     PS2        Action   \n",
       "3                    Grand Theft Auto V    X360        Action   \n",
       "4             Call of Duty: Black Ops 3     PS4       Shooter   \n",
       "...                                 ...     ...           ...   \n",
       "64011             XBlaze Lost: Memories      PC  Visual Novel   \n",
       "64012                      Yoru, Tomosu     PS4  Visual Novel   \n",
       "64013                      Yoru, Tomosu      NS  Visual Novel   \n",
       "64014   Yunohana SpRING! ~Mellow Times~      NS  Visual Novel   \n",
       "64015  Yurukill: The Calumniation Games     PS4  Visual Novel   \n",
       "\n",
       "                  publisher             developer  critic_score  total_sales  \\\n",
       "0            Rockstar Games        Rockstar North           9.4        20.32   \n",
       "1            Rockstar Games        Rockstar North           9.7        19.39   \n",
       "2            Rockstar Games        Rockstar North           9.6        16.15   \n",
       "3            Rockstar Games        Rockstar North           NaN        15.86   \n",
       "4                Activision              Treyarch           8.1        15.09   \n",
       "...                     ...                   ...           ...          ...   \n",
       "64011           Aksys Games      Arc System Works           NaN          NaN   \n",
       "64012  Nippon Ichi Software  Nippon Ichi Software           NaN          NaN   \n",
       "64013  Nippon Ichi Software  Nippon Ichi Software           NaN          NaN   \n",
       "64014          Idea Factory               Otomate           NaN          NaN   \n",
       "64015               Unknown            G.rev Ltd.           NaN          NaN   \n",
       "\n",
       "       na_sales  jp_sales  pal_sales  other_sales release_date last_update  \n",
       "0          6.37      0.99       9.85         3.12   2013-09-17         NaN  \n",
       "1          6.06      0.60       9.71         3.02   2014-11-18  2018-01-03  \n",
       "2          8.41      0.47       5.49         1.78   2002-10-28         NaN  \n",
       "3          9.06      0.06       5.33         1.42   2013-09-17         NaN  \n",
       "4          6.18      0.41       6.05         2.44   2015-11-06  2018-01-14  \n",
       "...         ...       ...        ...          ...          ...         ...  \n",
       "64011       NaN       NaN        NaN          NaN   2016-08-11  2019-01-28  \n",
       "64012       NaN       NaN        NaN          NaN   2020-07-30  2020-05-09  \n",
       "64013       NaN       NaN        NaN          NaN   2020-07-30  2020-05-09  \n",
       "64014       NaN       NaN        NaN          NaN   2019-02-28  2019-02-24  \n",
       "64015       NaN       NaN        NaN          NaN          NaN  2023-09-29  \n",
       "\n",
       "[64016 rows x 13 columns]"
      ]
     },
     "execution_count": 3,
     "metadata": {},
     "output_type": "execute_result"
    }
   ],
   "source": [
    "data"
   ]
  },
  {
   "cell_type": "code",
   "execution_count": 4,
   "id": "6f2d66b0-9ed4-4ae6-911d-5c3508d1ab6d",
   "metadata": {
    "tags": []
   },
   "outputs": [
    {
     "name": "stdout",
     "output_type": "stream",
     "text": [
      "<class 'pandas.core.frame.DataFrame'>\n",
      "Index: 64016 entries, 0 to 64015\n",
      "Data columns (total 13 columns):\n",
      " #   Column        Non-Null Count  Dtype  \n",
      "---  ------        --------------  -----  \n",
      " 0   title         64016 non-null  object \n",
      " 1   console       64016 non-null  object \n",
      " 2   genre         64016 non-null  object \n",
      " 3   publisher     64016 non-null  object \n",
      " 4   developer     63999 non-null  object \n",
      " 5   critic_score  6678 non-null   float64\n",
      " 6   total_sales   18922 non-null  float64\n",
      " 7   na_sales      12637 non-null  float64\n",
      " 8   jp_sales      6726 non-null   float64\n",
      " 9   pal_sales     12824 non-null  float64\n",
      " 10  other_sales   15128 non-null  float64\n",
      " 11  release_date  56965 non-null  object \n",
      " 12  last_update   17879 non-null  object \n",
      "dtypes: float64(6), object(7)\n",
      "memory usage: 6.8+ MB\n"
     ]
    }
   ],
   "source": [
    "data.info()"
   ]
  },
  {
   "cell_type": "markdown",
   "id": "2f0e4bed-f051-48a4-9ec1-ceaa952200fe",
   "metadata": {},
   "source": [
    "<h3 style=\"color: #60b671;\">Dealing with Dates</h3>"
   ]
  },
  {
   "cell_type": "code",
   "execution_count": 5,
   "id": "d411c770-bc39-48d8-800e-ffa571f558fb",
   "metadata": {
    "tags": []
   },
   "outputs": [],
   "source": [
    "data[[\"release_date\", \"last_update\"]] = data[[\"release_date\", \"last_update\"]].apply(pd.to_datetime)"
   ]
  },
  {
   "cell_type": "code",
   "execution_count": 6,
   "id": "460b55de-7f30-4127-8a5f-b8f838209b8e",
   "metadata": {
    "tags": []
   },
   "outputs": [
    {
     "name": "stdout",
     "output_type": "stream",
     "text": [
      "<class 'pandas.core.frame.DataFrame'>\n",
      "Index: 64016 entries, 0 to 64015\n",
      "Data columns (total 13 columns):\n",
      " #   Column        Non-Null Count  Dtype         \n",
      "---  ------        --------------  -----         \n",
      " 0   title         64016 non-null  object        \n",
      " 1   console       64016 non-null  object        \n",
      " 2   genre         64016 non-null  object        \n",
      " 3   publisher     64016 non-null  object        \n",
      " 4   developer     63999 non-null  object        \n",
      " 5   critic_score  6678 non-null   float64       \n",
      " 6   total_sales   18922 non-null  float64       \n",
      " 7   na_sales      12637 non-null  float64       \n",
      " 8   jp_sales      6726 non-null   float64       \n",
      " 9   pal_sales     12824 non-null  float64       \n",
      " 10  other_sales   15128 non-null  float64       \n",
      " 11  release_date  56965 non-null  datetime64[ns]\n",
      " 12  last_update   17879 non-null  datetime64[ns]\n",
      "dtypes: datetime64[ns](2), float64(6), object(5)\n",
      "memory usage: 6.8+ MB\n"
     ]
    }
   ],
   "source": [
    "data.info()"
   ]
  },
  {
   "cell_type": "code",
   "execution_count": 7,
   "id": "0cb08ae1-e54e-49b9-881f-f23cca245927",
   "metadata": {
    "tags": []
   },
   "outputs": [],
   "source": [
    "df = data.copy()"
   ]
  },
  {
   "cell_type": "code",
   "execution_count": 8,
   "id": "076f2c27-bc1d-4556-a208-78b4c622e626",
   "metadata": {
    "tags": []
   },
   "outputs": [
    {
     "data": {
      "text/html": [
       "<div>\n",
       "<style scoped>\n",
       "    .dataframe tbody tr th:only-of-type {\n",
       "        vertical-align: middle;\n",
       "    }\n",
       "\n",
       "    .dataframe tbody tr th {\n",
       "        vertical-align: top;\n",
       "    }\n",
       "\n",
       "    .dataframe thead th {\n",
       "        text-align: right;\n",
       "    }\n",
       "</style>\n",
       "<table border=\"1\" class=\"dataframe\">\n",
       "  <thead>\n",
       "    <tr style=\"text-align: right;\">\n",
       "      <th></th>\n",
       "      <th>title</th>\n",
       "      <th>console</th>\n",
       "      <th>genre</th>\n",
       "      <th>publisher</th>\n",
       "      <th>developer</th>\n",
       "      <th>critic_score</th>\n",
       "      <th>total_sales</th>\n",
       "      <th>na_sales</th>\n",
       "      <th>jp_sales</th>\n",
       "      <th>pal_sales</th>\n",
       "      <th>other_sales</th>\n",
       "      <th>release_date</th>\n",
       "      <th>last_update</th>\n",
       "    </tr>\n",
       "  </thead>\n",
       "  <tbody>\n",
       "    <tr>\n",
       "      <th>0</th>\n",
       "      <td>Grand Theft Auto V</td>\n",
       "      <td>PS3</td>\n",
       "      <td>Action</td>\n",
       "      <td>Rockstar Games</td>\n",
       "      <td>Rockstar North</td>\n",
       "      <td>9.4</td>\n",
       "      <td>20.32</td>\n",
       "      <td>6.37</td>\n",
       "      <td>0.99</td>\n",
       "      <td>9.85</td>\n",
       "      <td>3.12</td>\n",
       "      <td>2013-09-17</td>\n",
       "      <td>NaT</td>\n",
       "    </tr>\n",
       "    <tr>\n",
       "      <th>1</th>\n",
       "      <td>Grand Theft Auto V</td>\n",
       "      <td>PS4</td>\n",
       "      <td>Action</td>\n",
       "      <td>Rockstar Games</td>\n",
       "      <td>Rockstar North</td>\n",
       "      <td>9.7</td>\n",
       "      <td>19.39</td>\n",
       "      <td>6.06</td>\n",
       "      <td>0.60</td>\n",
       "      <td>9.71</td>\n",
       "      <td>3.02</td>\n",
       "      <td>2014-11-18</td>\n",
       "      <td>2018-01-03</td>\n",
       "    </tr>\n",
       "    <tr>\n",
       "      <th>2</th>\n",
       "      <td>Grand Theft Auto: Vice City</td>\n",
       "      <td>PS2</td>\n",
       "      <td>Action</td>\n",
       "      <td>Rockstar Games</td>\n",
       "      <td>Rockstar North</td>\n",
       "      <td>9.6</td>\n",
       "      <td>16.15</td>\n",
       "      <td>8.41</td>\n",
       "      <td>0.47</td>\n",
       "      <td>5.49</td>\n",
       "      <td>1.78</td>\n",
       "      <td>2002-10-28</td>\n",
       "      <td>NaT</td>\n",
       "    </tr>\n",
       "    <tr>\n",
       "      <th>3</th>\n",
       "      <td>Grand Theft Auto V</td>\n",
       "      <td>X360</td>\n",
       "      <td>Action</td>\n",
       "      <td>Rockstar Games</td>\n",
       "      <td>Rockstar North</td>\n",
       "      <td>NaN</td>\n",
       "      <td>15.86</td>\n",
       "      <td>9.06</td>\n",
       "      <td>0.06</td>\n",
       "      <td>5.33</td>\n",
       "      <td>1.42</td>\n",
       "      <td>2013-09-17</td>\n",
       "      <td>NaT</td>\n",
       "    </tr>\n",
       "    <tr>\n",
       "      <th>4</th>\n",
       "      <td>Call of Duty: Black Ops 3</td>\n",
       "      <td>PS4</td>\n",
       "      <td>Shooter</td>\n",
       "      <td>Activision</td>\n",
       "      <td>Treyarch</td>\n",
       "      <td>8.1</td>\n",
       "      <td>15.09</td>\n",
       "      <td>6.18</td>\n",
       "      <td>0.41</td>\n",
       "      <td>6.05</td>\n",
       "      <td>2.44</td>\n",
       "      <td>2015-11-06</td>\n",
       "      <td>2018-01-14</td>\n",
       "    </tr>\n",
       "    <tr>\n",
       "      <th>...</th>\n",
       "      <td>...</td>\n",
       "      <td>...</td>\n",
       "      <td>...</td>\n",
       "      <td>...</td>\n",
       "      <td>...</td>\n",
       "      <td>...</td>\n",
       "      <td>...</td>\n",
       "      <td>...</td>\n",
       "      <td>...</td>\n",
       "      <td>...</td>\n",
       "      <td>...</td>\n",
       "      <td>...</td>\n",
       "      <td>...</td>\n",
       "    </tr>\n",
       "    <tr>\n",
       "      <th>64011</th>\n",
       "      <td>XBlaze Lost: Memories</td>\n",
       "      <td>PC</td>\n",
       "      <td>Visual Novel</td>\n",
       "      <td>Aksys Games</td>\n",
       "      <td>Arc System Works</td>\n",
       "      <td>NaN</td>\n",
       "      <td>NaN</td>\n",
       "      <td>NaN</td>\n",
       "      <td>NaN</td>\n",
       "      <td>NaN</td>\n",
       "      <td>NaN</td>\n",
       "      <td>2016-08-11</td>\n",
       "      <td>2019-01-28</td>\n",
       "    </tr>\n",
       "    <tr>\n",
       "      <th>64012</th>\n",
       "      <td>Yoru, Tomosu</td>\n",
       "      <td>PS4</td>\n",
       "      <td>Visual Novel</td>\n",
       "      <td>Nippon Ichi Software</td>\n",
       "      <td>Nippon Ichi Software</td>\n",
       "      <td>NaN</td>\n",
       "      <td>NaN</td>\n",
       "      <td>NaN</td>\n",
       "      <td>NaN</td>\n",
       "      <td>NaN</td>\n",
       "      <td>NaN</td>\n",
       "      <td>2020-07-30</td>\n",
       "      <td>2020-05-09</td>\n",
       "    </tr>\n",
       "    <tr>\n",
       "      <th>64013</th>\n",
       "      <td>Yoru, Tomosu</td>\n",
       "      <td>NS</td>\n",
       "      <td>Visual Novel</td>\n",
       "      <td>Nippon Ichi Software</td>\n",
       "      <td>Nippon Ichi Software</td>\n",
       "      <td>NaN</td>\n",
       "      <td>NaN</td>\n",
       "      <td>NaN</td>\n",
       "      <td>NaN</td>\n",
       "      <td>NaN</td>\n",
       "      <td>NaN</td>\n",
       "      <td>2020-07-30</td>\n",
       "      <td>2020-05-09</td>\n",
       "    </tr>\n",
       "    <tr>\n",
       "      <th>64014</th>\n",
       "      <td>Yunohana SpRING! ~Mellow Times~</td>\n",
       "      <td>NS</td>\n",
       "      <td>Visual Novel</td>\n",
       "      <td>Idea Factory</td>\n",
       "      <td>Otomate</td>\n",
       "      <td>NaN</td>\n",
       "      <td>NaN</td>\n",
       "      <td>NaN</td>\n",
       "      <td>NaN</td>\n",
       "      <td>NaN</td>\n",
       "      <td>NaN</td>\n",
       "      <td>2019-02-28</td>\n",
       "      <td>2019-02-24</td>\n",
       "    </tr>\n",
       "    <tr>\n",
       "      <th>64015</th>\n",
       "      <td>Yurukill: The Calumniation Games</td>\n",
       "      <td>PS4</td>\n",
       "      <td>Visual Novel</td>\n",
       "      <td>Unknown</td>\n",
       "      <td>G.rev Ltd.</td>\n",
       "      <td>NaN</td>\n",
       "      <td>NaN</td>\n",
       "      <td>NaN</td>\n",
       "      <td>NaN</td>\n",
       "      <td>NaN</td>\n",
       "      <td>NaN</td>\n",
       "      <td>NaT</td>\n",
       "      <td>2023-09-29</td>\n",
       "    </tr>\n",
       "  </tbody>\n",
       "</table>\n",
       "<p>64016 rows × 13 columns</p>\n",
       "</div>"
      ],
      "text/plain": [
       "                                  title console         genre  \\\n",
       "0                    Grand Theft Auto V     PS3        Action   \n",
       "1                    Grand Theft Auto V     PS4        Action   \n",
       "2           Grand Theft Auto: Vice City     PS2        Action   \n",
       "3                    Grand Theft Auto V    X360        Action   \n",
       "4             Call of Duty: Black Ops 3     PS4       Shooter   \n",
       "...                                 ...     ...           ...   \n",
       "64011             XBlaze Lost: Memories      PC  Visual Novel   \n",
       "64012                      Yoru, Tomosu     PS4  Visual Novel   \n",
       "64013                      Yoru, Tomosu      NS  Visual Novel   \n",
       "64014   Yunohana SpRING! ~Mellow Times~      NS  Visual Novel   \n",
       "64015  Yurukill: The Calumniation Games     PS4  Visual Novel   \n",
       "\n",
       "                  publisher             developer  critic_score  total_sales  \\\n",
       "0            Rockstar Games        Rockstar North           9.4        20.32   \n",
       "1            Rockstar Games        Rockstar North           9.7        19.39   \n",
       "2            Rockstar Games        Rockstar North           9.6        16.15   \n",
       "3            Rockstar Games        Rockstar North           NaN        15.86   \n",
       "4                Activision              Treyarch           8.1        15.09   \n",
       "...                     ...                   ...           ...          ...   \n",
       "64011           Aksys Games      Arc System Works           NaN          NaN   \n",
       "64012  Nippon Ichi Software  Nippon Ichi Software           NaN          NaN   \n",
       "64013  Nippon Ichi Software  Nippon Ichi Software           NaN          NaN   \n",
       "64014          Idea Factory               Otomate           NaN          NaN   \n",
       "64015               Unknown            G.rev Ltd.           NaN          NaN   \n",
       "\n",
       "       na_sales  jp_sales  pal_sales  other_sales release_date last_update  \n",
       "0          6.37      0.99       9.85         3.12   2013-09-17         NaT  \n",
       "1          6.06      0.60       9.71         3.02   2014-11-18  2018-01-03  \n",
       "2          8.41      0.47       5.49         1.78   2002-10-28         NaT  \n",
       "3          9.06      0.06       5.33         1.42   2013-09-17         NaT  \n",
       "4          6.18      0.41       6.05         2.44   2015-11-06  2018-01-14  \n",
       "...         ...       ...        ...          ...          ...         ...  \n",
       "64011       NaN       NaN        NaN          NaN   2016-08-11  2019-01-28  \n",
       "64012       NaN       NaN        NaN          NaN   2020-07-30  2020-05-09  \n",
       "64013       NaN       NaN        NaN          NaN   2020-07-30  2020-05-09  \n",
       "64014       NaN       NaN        NaN          NaN   2019-02-28  2019-02-24  \n",
       "64015       NaN       NaN        NaN          NaN          NaT  2023-09-29  \n",
       "\n",
       "[64016 rows x 13 columns]"
      ]
     },
     "execution_count": 8,
     "metadata": {},
     "output_type": "execute_result"
    }
   ],
   "source": [
    "df"
   ]
  },
  {
   "cell_type": "markdown",
   "id": "bf8752d6-a008-436a-81f0-beb9a80d90f1",
   "metadata": {},
   "source": [
    "<h3 style=\"color: #60b671;\">Removing columns we will not use this time</h3>"
   ]
  },
  {
   "cell_type": "code",
   "execution_count": 9,
   "id": "0a174536-8cfb-4755-a078-622282a98283",
   "metadata": {
    "tags": []
   },
   "outputs": [],
   "source": [
    "df.drop(columns=[\"developer\",\"na_sales\",\"jp_sales\",\"pal_sales\",\"other_sales\",\"last_update\"], inplace=True)"
   ]
  },
  {
   "cell_type": "markdown",
   "id": "1ee2a688-47cd-4022-acdf-aadcc231f845",
   "metadata": {},
   "source": [
    "<h3 style=\"color: #60b671;\">Removing weird entries</h3>"
   ]
  },
  {
   "cell_type": "code",
   "execution_count": 10,
   "id": "39ff4551-61c7-49f6-8dbd-27fba08593f7",
   "metadata": {
    "tags": []
   },
   "outputs": [
    {
     "data": {
      "text/html": [
       "<div>\n",
       "<style scoped>\n",
       "    .dataframe tbody tr th:only-of-type {\n",
       "        vertical-align: middle;\n",
       "    }\n",
       "\n",
       "    .dataframe tbody tr th {\n",
       "        vertical-align: top;\n",
       "    }\n",
       "\n",
       "    .dataframe thead th {\n",
       "        text-align: right;\n",
       "    }\n",
       "</style>\n",
       "<table border=\"1\" class=\"dataframe\">\n",
       "  <thead>\n",
       "    <tr style=\"text-align: right;\">\n",
       "      <th></th>\n",
       "      <th>title</th>\n",
       "      <th>console</th>\n",
       "      <th>genre</th>\n",
       "      <th>publisher</th>\n",
       "      <th>critic_score</th>\n",
       "      <th>total_sales</th>\n",
       "      <th>release_date</th>\n",
       "    </tr>\n",
       "  </thead>\n",
       "  <tbody>\n",
       "    <tr>\n",
       "      <th>31619</th>\n",
       "      <td>The gamrReview Test Game</td>\n",
       "      <td>NES</td>\n",
       "      <td>Fighting</td>\n",
       "      <td>Unknown</td>\n",
       "      <td>10.0</td>\n",
       "      <td>NaN</td>\n",
       "      <td>1994-01-13</td>\n",
       "    </tr>\n",
       "  </tbody>\n",
       "</table>\n",
       "</div>"
      ],
      "text/plain": [
       "                          title console     genre publisher  critic_score  \\\n",
       "31619  The gamrReview Test Game     NES  Fighting   Unknown          10.0   \n",
       "\n",
       "       total_sales release_date  \n",
       "31619          NaN   1994-01-13  "
      ]
     },
     "execution_count": 10,
     "metadata": {},
     "output_type": "execute_result"
    }
   ],
   "source": [
    "df[df[\"title\"] == \"The gamrReview Test Game\"]"
   ]
  },
  {
   "cell_type": "code",
   "execution_count": 11,
   "id": "459943ed-800c-4327-b7bb-8a1750f3f20f",
   "metadata": {
    "tags": []
   },
   "outputs": [],
   "source": [
    "df.drop(31619, inplace=True)"
   ]
  },
  {
   "cell_type": "markdown",
   "id": "f9900ff3-2f75-4512-b45c-0d037099c045",
   "metadata": {},
   "source": [
    "<h3 style=\"color: #60b671;\">Checking Nulls</h3>"
   ]
  },
  {
   "cell_type": "code",
   "execution_count": 12,
   "id": "aede7755-b873-4d4d-8ed3-2127c6f03697",
   "metadata": {
    "tags": []
   },
   "outputs": [
    {
     "data": {
      "text/plain": [
       "title               0\n",
       "console             0\n",
       "genre               0\n",
       "publisher           0\n",
       "critic_score    57338\n",
       "total_sales     45093\n",
       "release_date     7051\n",
       "dtype: int64"
      ]
     },
     "execution_count": 12,
     "metadata": {},
     "output_type": "execute_result"
    }
   ],
   "source": [
    "df.isnull().sum()"
   ]
  },
  {
   "cell_type": "code",
   "execution_count": 13,
   "id": "8dc6edd1-b23f-497d-a7cc-e50da6f9d446",
   "metadata": {
    "tags": []
   },
   "outputs": [
    {
     "name": "stdout",
     "output_type": "stream",
     "text": [
      "critic_score has a 89.57 percent of nulls with respect to the total dataset\n",
      "total_sales has a 70.44 percent of nulls with respect to the total dataset\n",
      "release_date has a 11.01 percent of nulls with respect to the total dataset\n"
     ]
    }
   ],
   "source": [
    "print(f\"critic_score has a {round(df.critic_score.isnull().sum()/df.shape[0]*100, 2)} percent of nulls with respect to the total dataset\")\n",
    "print(f\"total_sales has a {round(df.total_sales.isnull().sum()/df.shape[0]*100, 2)} percent of nulls with respect to the total dataset\")\n",
    "print(f\"release_date has a {round(df.release_date.isnull().sum()/df.shape[0]*100, 2)} percent of nulls with respect to the total dataset\")"
   ]
  },
  {
   "cell_type": "markdown",
   "id": "b0991711-ad20-4b2b-b6b7-8a191aa18d5a",
   "metadata": {},
   "source": [
    "<h2 style=\"color: #327a81;\">Wrangling for specific EDA</h2>"
   ]
  },
  {
   "cell_type": "markdown",
   "id": "cb774ea6-4c13-41c3-9430-ad5fcebdf45d",
   "metadata": {},
   "source": [
    "<h3 style=\"color: #60b671;\">Checking Unique Values</h3>"
   ]
  },
  {
   "cell_type": "code",
   "execution_count": 14,
   "id": "5cff29cc-ae64-4d91-8610-d90bdf499303",
   "metadata": {
    "tags": []
   },
   "outputs": [
    {
     "name": "stdout",
     "output_type": "stream",
     "text": [
      "Gaming dispositives: ['PS3' 'PS4' 'PS2' 'X360' 'XOne' 'PC' 'PSP' 'Wii' 'PS' 'DS' '2600' 'GBA'\n",
      " 'NES' 'XB' 'PSN' 'GEN' 'PSV' 'DC' 'N64' 'SAT' 'SNES' 'GBC' 'GC' 'NS'\n",
      " '3DS' 'GB' 'WiiU' 'WS' 'VC' 'NG' 'WW' 'SCD' 'PCE' 'XBL' '3DO' 'GG' 'OSX'\n",
      " 'Mob' 'PCFX' 'Series' 'All' 'iOS' '5200' 'And' 'DSiW' 'Lynx' 'Linux' 'MS'\n",
      " 'ZXS' 'ACPC' 'Amig' '7800' 'DSi' 'AJ' 'WinP' 'iQue' 'GIZ' 'VB' 'Ouya'\n",
      " 'NGage' 'AST' 'MSD' 'S32X' 'XS' 'PS5' 'Int' 'CV' 'Arc' 'C64' 'FDS' 'MSX'\n",
      " 'OR' 'C128' 'CDi' 'CD32' 'BRW' 'FMT' 'ApII' 'Aco' 'BBCM' 'TG16']\n"
     ]
    }
   ],
   "source": [
    "# Console names\n",
    "\n",
    "consoles = df[\"console\"].unique()\n",
    "print(f\"Gaming dispositives: {consoles}\")"
   ]
  },
  {
   "cell_type": "code",
   "execution_count": 15,
   "id": "1a8cca33-e68c-40e1-a387-d8e76721705f",
   "metadata": {
    "tags": []
   },
   "outputs": [
    {
     "name": "stdout",
     "output_type": "stream",
     "text": [
      "Genres: ['Action' 'Shooter' 'Action-Adventure' 'Sports' 'Role-Playing'\n",
      " 'Simulation' 'Racing' 'Music' 'Misc' 'Fighting' 'Platform' 'Adventure'\n",
      " 'Strategy' 'Puzzle' 'MMO' 'Sandbox' 'Party' 'Education' 'Board Game'\n",
      " 'Visual Novel']\n"
     ]
    }
   ],
   "source": [
    "# Genre types\n",
    "\n",
    "genres = df[\"genre\"].unique()\n",
    "print(f\"Genres: {genres}\")"
   ]
  },
  {
   "cell_type": "code",
   "execution_count": 16,
   "id": "511699c7-8d6b-435d-a33c-7bf82f2194f1",
   "metadata": {
    "tags": []
   },
   "outputs": [
    {
     "name": "stdout",
     "output_type": "stream",
     "text": [
      "Number of publisher companies: 3383\n"
     ]
    }
   ],
   "source": [
    "# Publisher names\n",
    "\n",
    "n_publishers = df[\"publisher\"].nunique()\n",
    "print(f\"Number of publisher companies: {n_publishers}\")"
   ]
  },
  {
   "cell_type": "markdown",
   "id": "320231b6-b881-4259-88b3-b06145858415",
   "metadata": {},
   "source": [
    "<h3 style=\"color: #60b671;\">Renaming Console Names</h3>"
   ]
  },
  {
   "cell_type": "code",
   "execution_count": 17,
   "id": "b2b66c44-75ec-40fd-984b-ddadee458b78",
   "metadata": {
    "tags": []
   },
   "outputs": [],
   "source": [
    "consoles_mapping = {\n",
    "    \"PS3\": \"PlayStation 3\",\n",
    "    \"PS4\": \"PlayStation 4\",\n",
    "    \"PS2\": \"PlayStation 2\",\n",
    "    \"X360\": \"Xbox 360\",\n",
    "    \"XOne\": \"Xbox One\",\n",
    "    \"PC\": \"Personal Computer\",\n",
    "    \"PSP\": \"PlayStation Portable\",\n",
    "    \"Wii\": \"Nintendo Wii\",\n",
    "    \"PS\": \"PlayStation\",\n",
    "    \"DS\": \"Nintendo DS\",\n",
    "    \"2600\": \"Atari 2600\",\n",
    "    \"GBA\": \"Game Boy Advance\",\n",
    "    \"NES\": \"Nintendo Entertainment System\",\n",
    "    \"XB\": \"Xbox\",\n",
    "    \"PSN\": \"PlayStation Network\",\n",
    "    \"GEN\": \"Sega Genesis\",\n",
    "    \"PSV\": \"PlayStation Vita\",\n",
    "    \"DC\": \"Dreamcast\",\n",
    "    \"N64\": \"Nintendo 64\",\n",
    "    \"SAT\": \"Sega Saturn\",\n",
    "    \"SNES\": \"Super Nintendo Entertainment System\",\n",
    "    \"GBC\": \"Game Boy Color\",\n",
    "    \"GC\": \"Nintendo GameCube\",\n",
    "    \"NS\": \"Nintendo Switch\",\n",
    "    \"3DS\": \"Nintendo 3DS\",\n",
    "    \"GB\": \"Game Boy\",\n",
    "    \"WiiU\": \"Wii U\",\n",
    "    \"WS\": \"WonderSwan\",\n",
    "    \"VC\": \"Virtual Console\",\n",
    "    \"NG\": \"Neo Geo\",\n",
    "    \"WW\": \"WonderSwan Color\",\n",
    "    \"SCD\": \"Sega CD\",\n",
    "    \"PCE\": \"PC Engine\",\n",
    "    \"XBL\": \"Xbox Live\",\n",
    "    \"3DO\": \"3DO Interactive Multiplayer\",\n",
    "    \"GG\": \"Sega Game Gear\",\n",
    "    \"OSX\": \"macOS\",\n",
    "    \"Mob\": \"Juegos Móviles\",\n",
    "    \"PCFX\": \"PC-FX\",\n",
    "    \"iOS\": \"iOS\",\n",
    "    \"And\": \"Android\",\n",
    "    \"DSiW\": \"Nintendo DSiWare\",\n",
    "    \"Lynx\": \"Atari Lynx\",\n",
    "    \"Linux\": \"Linux (Operative System)\",\n",
    "    \"MS\": \"Microsoft\",\n",
    "    \"ZXS\": \"ZX Spectrum\",\n",
    "    \"ACPC\": \"Amstrad CPC\",\n",
    "    \"Amig\": \"Amiga\",\n",
    "    \"7800\": \"Atary 7800\",\n",
    "    \"DSi\": \"Nintendo DSi\",\n",
    "    \"AJ\": \"Atari Jaguar\",\n",
    "    \"WinP\": \"Windows Phone\",\n",
    "    \"iQue\": \"iQue Player\",\n",
    "    \"GIZ\": \"Gizmodo\",\n",
    "    \"VB\": \"Virtual Boy\",\n",
    "    \"Ouya\": \"Ouya\",\n",
    "    \"NGage\": \"Nokia N-Gage\",\n",
    "    \"AST\": \"Astrocade\",\n",
    "    \"MSD\": \"Master System\",\n",
    "    \"S32X\": \"Sega 32X\",\n",
    "    \"XS\": \"Xbox Series X/S\",\n",
    "    \"PS5\": \"PlayStation 5\",\n",
    "    \"Int\": \"Intellivision\",\n",
    "    \"CV\": \"ColecoVision\",\n",
    "    \"Arc\": \"Arcades\",\n",
    "    \"C64\": \"Commodore 64\",\n",
    "    \"FDS\": \"Family Computer Disk System\",\n",
    "    \"MSX\": \"MSX\",\n",
    "    \"OR\": \"Oric\",\n",
    "    \"C128\": \"Commodore 128\",\n",
    "    \"CDi\": \"Philips CD-i\",\n",
    "    \"CD32\": \"Commodore Amiga CD32\",\n",
    "    \"BRW\": \"Brew\",\n",
    "    \"FMT\": \"FM Towns\",\n",
    "    \"ApII\": \"Apple II\",\n",
    "    \"Aco\": \"Acorn Electron\",\n",
    "    \"BBCM\": \"BBC Micro\",\n",
    "    \"TG16\": \"TurboGrafx-16\"\n",
    "}"
   ]
  },
  {
   "cell_type": "code",
   "execution_count": 18,
   "id": "fadad082-bc15-4ac1-92f7-912bcf0e2b3e",
   "metadata": {
    "tags": []
   },
   "outputs": [],
   "source": [
    "platform = df[\"console\"].map(consoles_mapping)"
   ]
  },
  {
   "cell_type": "code",
   "execution_count": 19,
   "id": "507a5527-b4bf-464d-8474-8217824d9012",
   "metadata": {
    "tags": []
   },
   "outputs": [],
   "source": [
    "df.insert(1, \"platform\", platform)"
   ]
  },
  {
   "cell_type": "code",
   "execution_count": 20,
   "id": "1ae80f2c-444d-4233-943a-9ee6801c974c",
   "metadata": {
    "tags": []
   },
   "outputs": [],
   "source": [
    "console = df.pop(\"console\")"
   ]
  },
  {
   "cell_type": "code",
   "execution_count": 21,
   "id": "1f7e01d5-fc2d-44db-86f7-cf795f8c0be4",
   "metadata": {
    "tags": []
   },
   "outputs": [
    {
     "data": {
      "text/html": [
       "<div>\n",
       "<style scoped>\n",
       "    .dataframe tbody tr th:only-of-type {\n",
       "        vertical-align: middle;\n",
       "    }\n",
       "\n",
       "    .dataframe tbody tr th {\n",
       "        vertical-align: top;\n",
       "    }\n",
       "\n",
       "    .dataframe thead th {\n",
       "        text-align: right;\n",
       "    }\n",
       "</style>\n",
       "<table border=\"1\" class=\"dataframe\">\n",
       "  <thead>\n",
       "    <tr style=\"text-align: right;\">\n",
       "      <th></th>\n",
       "      <th>title</th>\n",
       "      <th>platform</th>\n",
       "      <th>genre</th>\n",
       "      <th>publisher</th>\n",
       "      <th>critic_score</th>\n",
       "      <th>total_sales</th>\n",
       "      <th>release_date</th>\n",
       "    </tr>\n",
       "  </thead>\n",
       "  <tbody>\n",
       "    <tr>\n",
       "      <th>0</th>\n",
       "      <td>Grand Theft Auto V</td>\n",
       "      <td>PlayStation 3</td>\n",
       "      <td>Action</td>\n",
       "      <td>Rockstar Games</td>\n",
       "      <td>9.4</td>\n",
       "      <td>20.32</td>\n",
       "      <td>2013-09-17</td>\n",
       "    </tr>\n",
       "    <tr>\n",
       "      <th>1</th>\n",
       "      <td>Grand Theft Auto V</td>\n",
       "      <td>PlayStation 4</td>\n",
       "      <td>Action</td>\n",
       "      <td>Rockstar Games</td>\n",
       "      <td>9.7</td>\n",
       "      <td>19.39</td>\n",
       "      <td>2014-11-18</td>\n",
       "    </tr>\n",
       "    <tr>\n",
       "      <th>2</th>\n",
       "      <td>Grand Theft Auto: Vice City</td>\n",
       "      <td>PlayStation 2</td>\n",
       "      <td>Action</td>\n",
       "      <td>Rockstar Games</td>\n",
       "      <td>9.6</td>\n",
       "      <td>16.15</td>\n",
       "      <td>2002-10-28</td>\n",
       "    </tr>\n",
       "  </tbody>\n",
       "</table>\n",
       "</div>"
      ],
      "text/plain": [
       "                         title       platform   genre       publisher  \\\n",
       "0           Grand Theft Auto V  PlayStation 3  Action  Rockstar Games   \n",
       "1           Grand Theft Auto V  PlayStation 4  Action  Rockstar Games   \n",
       "2  Grand Theft Auto: Vice City  PlayStation 2  Action  Rockstar Games   \n",
       "\n",
       "   critic_score  total_sales release_date  \n",
       "0           9.4        20.32   2013-09-17  \n",
       "1           9.7        19.39   2014-11-18  \n",
       "2           9.6        16.15   2002-10-28  "
      ]
     },
     "execution_count": 21,
     "metadata": {},
     "output_type": "execute_result"
    }
   ],
   "source": [
    "df.head(3)"
   ]
  },
  {
   "cell_type": "markdown",
   "id": "85dca8e8-b44a-41bb-8bec-b428ca41be14",
   "metadata": {},
   "source": [
    "<h3 style=\"color: #60b671;\">Videogame Company labeling</h3>"
   ]
  },
  {
   "cell_type": "code",
   "execution_count": 22,
   "id": "a7d70db8-c890-4075-9143-ecbe51ad8a9d",
   "metadata": {
    "tags": []
   },
   "outputs": [],
   "source": [
    "sony_computer_entertainment = [\"PlayStation 3\", \"PlayStation 4\", \"PlayStation 2\", \"PlayStation Portable\", \n",
    "                               \"PlayStation\", \"PlayStation Network\", \"PlayStation Vita\", \"PlayStation 5\"]\n",
    "\n",
    "nintendo = [\"Nintendo Wii\", \"Nintendo DS\", \"Nintendo DSi\", \"Nintendo 3DS\", \"Nintendo GameCube\", \"Nintendo Switch\", \"Nintendo 64\",\n",
    "            \"Nintendo Entertainment System\", \"Nintendo Entertainment System\", \"Game Boy Advance\", \"Game Boy Color\", \n",
    "            \"Game Boy\", \"Wii U\", \"Nintendo DSiWare\", \"Virtual Boy\", \"Family Computer Disk System\"]\n",
    "\n",
    "microsoft = [\"Xbox 360\", \"Xbox One\", \"Xbox\", \"Xbox Live\", \"Xbox Series X/S\"]\n",
    "\n",
    "sega = [\"Sega Genesis\", \"Dreamcast\", \"Sega Saturn\", \"Sega CD\", \"Master System\", \"Sega 32X\", \"Sega Game Gear\"]"
   ]
  },
  {
   "cell_type": "code",
   "execution_count": 23,
   "id": "1078639e-de9d-4bb5-925d-77d6cf9dfe5b",
   "metadata": {
    "tags": []
   },
   "outputs": [],
   "source": [
    "company = []\n",
    "\n",
    "for console in df[\"platform\"]:\n",
    "    if console in sony_computer_entertainment:\n",
    "        company.append(\"Sony\")\n",
    "    elif console in nintendo:\n",
    "        company.append(\"Nintendo\")\n",
    "    elif console in microsoft:\n",
    "        company.append(\"Microsoft\")\n",
    "    elif console in sega:\n",
    "        company.append(\"Sega\")\n",
    "    else:\n",
    "        company.append(\"Other\")"
   ]
  },
  {
   "cell_type": "code",
   "execution_count": 24,
   "id": "eb9c6209-565d-4b05-b07c-fda471964934",
   "metadata": {
    "tags": []
   },
   "outputs": [],
   "source": [
    "df.insert(2, \"company\", company)"
   ]
  },
  {
   "cell_type": "code",
   "execution_count": 25,
   "id": "28f93b87-f8fd-46e5-926d-faa732f75e1f",
   "metadata": {
    "tags": []
   },
   "outputs": [
    {
     "data": {
      "text/html": [
       "<div>\n",
       "<style scoped>\n",
       "    .dataframe tbody tr th:only-of-type {\n",
       "        vertical-align: middle;\n",
       "    }\n",
       "\n",
       "    .dataframe tbody tr th {\n",
       "        vertical-align: top;\n",
       "    }\n",
       "\n",
       "    .dataframe thead th {\n",
       "        text-align: right;\n",
       "    }\n",
       "</style>\n",
       "<table border=\"1\" class=\"dataframe\">\n",
       "  <thead>\n",
       "    <tr style=\"text-align: right;\">\n",
       "      <th></th>\n",
       "      <th>title</th>\n",
       "      <th>platform</th>\n",
       "      <th>company</th>\n",
       "      <th>genre</th>\n",
       "      <th>publisher</th>\n",
       "      <th>critic_score</th>\n",
       "      <th>total_sales</th>\n",
       "      <th>release_date</th>\n",
       "    </tr>\n",
       "  </thead>\n",
       "  <tbody>\n",
       "    <tr>\n",
       "      <th>0</th>\n",
       "      <td>Grand Theft Auto V</td>\n",
       "      <td>PlayStation 3</td>\n",
       "      <td>Sony</td>\n",
       "      <td>Action</td>\n",
       "      <td>Rockstar Games</td>\n",
       "      <td>9.4</td>\n",
       "      <td>20.32</td>\n",
       "      <td>2013-09-17</td>\n",
       "    </tr>\n",
       "    <tr>\n",
       "      <th>1</th>\n",
       "      <td>Grand Theft Auto V</td>\n",
       "      <td>PlayStation 4</td>\n",
       "      <td>Sony</td>\n",
       "      <td>Action</td>\n",
       "      <td>Rockstar Games</td>\n",
       "      <td>9.7</td>\n",
       "      <td>19.39</td>\n",
       "      <td>2014-11-18</td>\n",
       "    </tr>\n",
       "    <tr>\n",
       "      <th>2</th>\n",
       "      <td>Grand Theft Auto: Vice City</td>\n",
       "      <td>PlayStation 2</td>\n",
       "      <td>Sony</td>\n",
       "      <td>Action</td>\n",
       "      <td>Rockstar Games</td>\n",
       "      <td>9.6</td>\n",
       "      <td>16.15</td>\n",
       "      <td>2002-10-28</td>\n",
       "    </tr>\n",
       "    <tr>\n",
       "      <th>3</th>\n",
       "      <td>Grand Theft Auto V</td>\n",
       "      <td>Xbox 360</td>\n",
       "      <td>Microsoft</td>\n",
       "      <td>Action</td>\n",
       "      <td>Rockstar Games</td>\n",
       "      <td>NaN</td>\n",
       "      <td>15.86</td>\n",
       "      <td>2013-09-17</td>\n",
       "    </tr>\n",
       "    <tr>\n",
       "      <th>4</th>\n",
       "      <td>Call of Duty: Black Ops 3</td>\n",
       "      <td>PlayStation 4</td>\n",
       "      <td>Sony</td>\n",
       "      <td>Shooter</td>\n",
       "      <td>Activision</td>\n",
       "      <td>8.1</td>\n",
       "      <td>15.09</td>\n",
       "      <td>2015-11-06</td>\n",
       "    </tr>\n",
       "  </tbody>\n",
       "</table>\n",
       "</div>"
      ],
      "text/plain": [
       "                         title       platform    company    genre  \\\n",
       "0           Grand Theft Auto V  PlayStation 3       Sony   Action   \n",
       "1           Grand Theft Auto V  PlayStation 4       Sony   Action   \n",
       "2  Grand Theft Auto: Vice City  PlayStation 2       Sony   Action   \n",
       "3           Grand Theft Auto V       Xbox 360  Microsoft   Action   \n",
       "4    Call of Duty: Black Ops 3  PlayStation 4       Sony  Shooter   \n",
       "\n",
       "        publisher  critic_score  total_sales release_date  \n",
       "0  Rockstar Games           9.4        20.32   2013-09-17  \n",
       "1  Rockstar Games           9.7        19.39   2014-11-18  \n",
       "2  Rockstar Games           9.6        16.15   2002-10-28  \n",
       "3  Rockstar Games           NaN        15.86   2013-09-17  \n",
       "4      Activision           8.1        15.09   2015-11-06  "
      ]
     },
     "execution_count": 25,
     "metadata": {},
     "output_type": "execute_result"
    }
   ],
   "source": [
    "df.head(5)"
   ]
  },
  {
   "cell_type": "markdown",
   "id": "e95b6e5a-c175-4e94-a1e4-401032132892",
   "metadata": {},
   "source": [
    "<h3 style=\"color: #60b671;\">Dropping \"Other\" Company from dataset</h3>"
   ]
  },
  {
   "cell_type": "code",
   "execution_count": 26,
   "id": "a446fe1b-b3db-4d90-b5fb-4a2f8e7e2f93",
   "metadata": {
    "tags": []
   },
   "outputs": [],
   "source": [
    "df = df[df[\"company\"] != \"Other\"]"
   ]
  },
  {
   "cell_type": "markdown",
   "id": "4c749e31-38e8-40b2-b9e1-15681465ccf8",
   "metadata": {},
   "source": [
    "<h1 style=\"color: #492c68;\">02 | EDA: Videogame Consoles War</h1>"
   ]
  },
  {
   "cell_type": "markdown",
   "id": "3449a1b3-6c37-4868-883c-081b0877a56f",
   "metadata": {},
   "source": [
    "<h2 style=\"color: #327a81;\">Video Games Releases</h2>"
   ]
  },
  {
   "cell_type": "markdown",
   "id": "ed232492-c20d-41a9-b2aa-8d17ac81fc83",
   "metadata": {},
   "source": [
    "<h3 style=\"color: #60b671;\">Games releases by Company</h3>"
   ]
  },
  {
   "cell_type": "code",
   "execution_count": 27,
   "id": "34b98835-9f42-4373-93ff-8957ab944696",
   "metadata": {
    "tags": []
   },
   "outputs": [
    {
     "name": "stdout",
     "output_type": "stream",
     "text": [
      "     company  count\n",
      "0       Sony  16619\n",
      "1   Nintendo  15334\n",
      "2  Microsoft   7420\n",
      "3       Sega   2778\n"
     ]
    }
   ],
   "source": [
    "company_counts = df[\"company\"].value_counts()\n",
    "company_counts = company_counts.reset_index()\n",
    "print(company_counts)"
   ]
  },
  {
   "cell_type": "code",
   "execution_count": 28,
   "id": "59cd5c13-ec11-4c1a-8c52-9fd3f068d65e",
   "metadata": {
    "tags": []
   },
   "outputs": [
    {
     "data": {
      "image/png": "[encoded data removed]",
      "text/plain": [
       "<Figure size 1200x400 with 1 Axes>"
      ]
     },
     "metadata": {},
     "output_type": "display_data"
    }
   ],
   "source": [
    "plt.figure(figsize=(12,4))\n",
    "company_counts_plot = sns.barplot(data=company_counts, x=\"company\", y=\"count\", palette=[\"#0d0d0d\", \"#FE0016\", \"#0e7a0d\", \"#17569B\"])\n",
    "\n",
    "'''\n",
    "Hexadecimal colors used:\n",
    "\n",
    "#0d0d0d - sony black\n",
    "#FE0016 - nintendo red\n",
    "#0e7a0d - microsoft green\n",
    "#17569B - sega blue\n",
    "\n",
    "'''\n",
    "\n",
    "plt.xlabel(\"Videogame Company\")\n",
    "plt.ylabel(\"N of Games\")\n",
    "plt.title(\"Number of Games Releases by Company\")\n",
    "\n",
    "for index, value in enumerate(company_counts[\"count\"]):\n",
    "    plt.text(index, value, str(round(value, 2)), va='bottom', ha='center', fontsize=8) \n",
    "\n",
    "plt.tight_layout()\n",
    "plt.show()"
   ]
  },
  {
   "cell_type": "markdown",
   "id": "2350556a-126f-4f64-bd05-ee73d034d189",
   "metadata": {},
   "source": [
    "<h3 style=\"color: #60b671;\">Percentage of Releases by Company</h3>"
   ]
  },
  {
   "cell_type": "code",
   "execution_count": 29,
   "id": "9d9bde12-7387-4d10-bbff-ae22a4d3e561",
   "metadata": {
    "tags": []
   },
   "outputs": [
    {
     "data": {
      "text/html": [
       "<div>\n",
       "<style scoped>\n",
       "    .dataframe tbody tr th:only-of-type {\n",
       "        vertical-align: middle;\n",
       "    }\n",
       "\n",
       "    .dataframe tbody tr th {\n",
       "        vertical-align: top;\n",
       "    }\n",
       "\n",
       "    .dataframe thead th {\n",
       "        text-align: right;\n",
       "    }\n",
       "</style>\n",
       "<table border=\"1\" class=\"dataframe\">\n",
       "  <thead>\n",
       "    <tr style=\"text-align: right;\">\n",
       "      <th></th>\n",
       "      <th>company</th>\n",
       "      <th>count</th>\n",
       "    </tr>\n",
       "  </thead>\n",
       "  <tbody>\n",
       "    <tr>\n",
       "      <th>0</th>\n",
       "      <td>Sony</td>\n",
       "      <td>16619</td>\n",
       "    </tr>\n",
       "    <tr>\n",
       "      <th>1</th>\n",
       "      <td>Nintendo</td>\n",
       "      <td>15334</td>\n",
       "    </tr>\n",
       "    <tr>\n",
       "      <th>2</th>\n",
       "      <td>Microsoft</td>\n",
       "      <td>7420</td>\n",
       "    </tr>\n",
       "    <tr>\n",
       "      <th>3</th>\n",
       "      <td>Sega</td>\n",
       "      <td>2778</td>\n",
       "    </tr>\n",
       "  </tbody>\n",
       "</table>\n",
       "</div>"
      ],
      "text/plain": [
       "     company  count\n",
       "0       Sony  16619\n",
       "1   Nintendo  15334\n",
       "2  Microsoft   7420\n",
       "3       Sega   2778"
      ]
     },
     "execution_count": 29,
     "metadata": {},
     "output_type": "execute_result"
    }
   ],
   "source": [
    "company_counts"
   ]
  },
  {
   "cell_type": "code",
   "execution_count": 30,
   "id": "5002947a-5d99-4c4b-b8f5-cdea09cafe8f",
   "metadata": {
    "tags": []
   },
   "outputs": [
    {
     "data": {
      "image/png": "[encoded data removed]",
      "text/plain": [
       "<Figure size 600x600 with 1 Axes>"
      ]
     },
     "metadata": {},
     "output_type": "display_data"
    }
   ],
   "source": [
    "plt.figure(figsize=(6,6))\n",
    "plt.pie(data=company_counts, x=\"count\", labels=\"company\", autopct=\"%1.1f%%\", startangle=90, colors=[\"#9c9c9c\", \"#FE0016\", \"#0e7a0d\", \"#17569B\"])\n",
    "plt.title(\"Percentage of Games Released by Company\")\n",
    "plt.axis(\"equal\")\n",
    "plt.show()"
   ]
  },
  {
   "cell_type": "markdown",
   "id": "d7d298ea-76e5-4a73-9df2-371a047e8620",
   "metadata": {},
   "source": [
    "<h3 style=\"color: #60b671;\">Games releases by </h3>"
   ]
  },
  {
   "cell_type": "code",
   "execution_count": 31,
   "id": "93898b51-2f01-4ea8-b248-2e6eed257ec7",
   "metadata": {
    "tags": []
   },
   "outputs": [],
   "source": [
    "plat_releases = df.groupby([\"platform\", \"company\"])[\"title\"].count().sort_values(ascending=False).reset_index()"
   ]
  },
  {
   "cell_type": "code",
   "execution_count": 32,
   "id": "ad47f25c-065d-4666-b598-c7ff534b5486",
   "metadata": {
    "tags": []
   },
   "outputs": [
    {
     "data": {
      "text/html": [
       "<div>\n",
       "<style scoped>\n",
       "    .dataframe tbody tr th:only-of-type {\n",
       "        vertical-align: middle;\n",
       "    }\n",
       "\n",
       "    .dataframe tbody tr th {\n",
       "        vertical-align: top;\n",
       "    }\n",
       "\n",
       "    .dataframe thead th {\n",
       "        text-align: right;\n",
       "    }\n",
       "</style>\n",
       "<table border=\"1\" class=\"dataframe\">\n",
       "  <thead>\n",
       "    <tr style=\"text-align: right;\">\n",
       "      <th></th>\n",
       "      <th>platform</th>\n",
       "      <th>company</th>\n",
       "      <th>title</th>\n",
       "    </tr>\n",
       "  </thead>\n",
       "  <tbody>\n",
       "    <tr>\n",
       "      <th>0</th>\n",
       "      <td>PlayStation 2</td>\n",
       "      <td>Sony</td>\n",
       "      <td>3565</td>\n",
       "    </tr>\n",
       "    <tr>\n",
       "      <th>1</th>\n",
       "      <td>Nintendo DS</td>\n",
       "      <td>Nintendo</td>\n",
       "      <td>3288</td>\n",
       "    </tr>\n",
       "    <tr>\n",
       "      <th>2</th>\n",
       "      <td>PlayStation 4</td>\n",
       "      <td>Sony</td>\n",
       "      <td>2878</td>\n",
       "    </tr>\n",
       "    <tr>\n",
       "      <th>3</th>\n",
       "      <td>PlayStation</td>\n",
       "      <td>Sony</td>\n",
       "      <td>2707</td>\n",
       "    </tr>\n",
       "    <tr>\n",
       "      <th>4</th>\n",
       "      <td>Nintendo Switch</td>\n",
       "      <td>Nintendo</td>\n",
       "      <td>2337</td>\n",
       "    </tr>\n",
       "  </tbody>\n",
       "</table>\n",
       "</div>"
      ],
      "text/plain": [
       "          platform   company  title\n",
       "0    PlayStation 2      Sony   3565\n",
       "1      Nintendo DS  Nintendo   3288\n",
       "2    PlayStation 4      Sony   2878\n",
       "3      PlayStation      Sony   2707\n",
       "4  Nintendo Switch  Nintendo   2337"
      ]
     },
     "execution_count": 32,
     "metadata": {},
     "output_type": "execute_result"
    }
   ],
   "source": [
    "plat_releases.head(5)"
   ]
  },
  {
   "cell_type": "code",
   "execution_count": 33,
   "id": "eb709f51-ead9-4d53-b22b-91d41cfe64b3",
   "metadata": {
    "tags": []
   },
   "outputs": [
    {
     "data": {
      "image/png": "[encoded data removed]",
      "text/plain": [
       "<Figure size 1200x800 with 1 Axes>"
      ]
     },
     "metadata": {},
     "output_type": "display_data"
    }
   ],
   "source": [
    "plt.figure(figsize=(12, 8))\n",
    "plat_releases_plot = sns.barplot(data=plat_releases, x=\"title\", y=\"platform\", hue=\"company\", palette=[\"#0d0d0d\", \"#FE0016\", \"#0e7a0d\", \"#17569B\"], \n",
    "            orient=\"h\", dodge=False, saturation=0.8, ci=None, estimator=sum, \n",
    "            )\n",
    "\n",
    "plt.xlabel(\"Nº of Titles\")\n",
    "plt.ylabel(\"Platforms\")\n",
    "plt.title(\"Number of Game Releases by Platform\")\n",
    "plt.legend(title=\"Company\", bbox_to_anchor=(1.05, 1), loc=\"upper left\")\n",
    "\n",
    "for index, value in enumerate(plat_releases[\"title\"]):\n",
    "    plt.text(value, index, str(round(value, 2)), ha='left', fontsize=8)\n",
    "    \n",
    "plt.tight_layout()\n",
    "plt.show()"
   ]
  },
  {
   "cell_type": "markdown",
   "id": "f1a09e2f-e862-423d-9a99-7065062c98bf",
   "metadata": {},
   "source": [
    "<h3 style=\"color: #60b671;\">Histogram of Video Games Releases by Company</h3>"
   ]
  },
  {
   "cell_type": "code",
   "execution_count": 34,
   "id": "d45fb42b-81f0-47be-bddc-400b31f06f13",
   "metadata": {
    "tags": []
   },
   "outputs": [],
   "source": [
    "company_counts_dates = df.groupby([\"release_date\", \"company\"])[\"company\"].value_counts()"
   ]
  },
  {
   "cell_type": "code",
   "execution_count": 35,
   "id": "4a664f44-62b9-4ee1-8e73-1927e11fe25e",
   "metadata": {
    "tags": []
   },
   "outputs": [],
   "source": [
    "company_counts_dates = company_counts_dates.reset_index()"
   ]
  },
  {
   "cell_type": "code",
   "execution_count": 36,
   "id": "82e4a0cf-f3ec-42ae-b3ac-54d328712e4a",
   "metadata": {
    "tags": []
   },
   "outputs": [],
   "source": [
    "histo_company_counts = company_counts_dates.pivot_table(index=\"release_date\", columns= \"company\", values=\"count\")"
   ]
  },
  {
   "cell_type": "code",
   "execution_count": 37,
   "id": "5b00bd22-2f1a-43f8-8d59-952e1804f001",
   "metadata": {
    "tags": []
   },
   "outputs": [],
   "source": [
    "histo_company_counts = histo_company_counts.resample(\"Y\").sum()"
   ]
  },
  {
   "cell_type": "code",
   "execution_count": 38,
   "id": "82437dfa-1005-4521-9f02-dc43c8ee4e9b",
   "metadata": {
    "tags": []
   },
   "outputs": [],
   "source": [
    "histo_company_counts = histo_company_counts.reset_index()"
   ]
  },
  {
   "cell_type": "code",
   "execution_count": 39,
   "id": "49bd6f92-f8d2-4fe1-bccf-7aa21a78e7c1",
   "metadata": {
    "tags": []
   },
   "outputs": [
    {
     "data": {
      "text/html": [
       "<div>\n",
       "<style scoped>\n",
       "    .dataframe tbody tr th:only-of-type {\n",
       "        vertical-align: middle;\n",
       "    }\n",
       "\n",
       "    .dataframe tbody tr th {\n",
       "        vertical-align: top;\n",
       "    }\n",
       "\n",
       "    .dataframe thead th {\n",
       "        text-align: right;\n",
       "    }\n",
       "</style>\n",
       "<table border=\"1\" class=\"dataframe\">\n",
       "  <thead>\n",
       "    <tr style=\"text-align: right;\">\n",
       "      <th>company</th>\n",
       "      <th>release_date</th>\n",
       "      <th>Microsoft</th>\n",
       "      <th>Nintendo</th>\n",
       "      <th>Sega</th>\n",
       "      <th>Sony</th>\n",
       "    </tr>\n",
       "  </thead>\n",
       "  <tbody>\n",
       "    <tr>\n",
       "      <th>0</th>\n",
       "      <td>1975-12-31</td>\n",
       "      <td>0.0</td>\n",
       "      <td>1.0</td>\n",
       "      <td>0.0</td>\n",
       "      <td>0.0</td>\n",
       "    </tr>\n",
       "    <tr>\n",
       "      <th>1</th>\n",
       "      <td>1976-12-31</td>\n",
       "      <td>0.0</td>\n",
       "      <td>0.0</td>\n",
       "      <td>0.0</td>\n",
       "      <td>0.0</td>\n",
       "    </tr>\n",
       "    <tr>\n",
       "      <th>2</th>\n",
       "      <td>1977-12-31</td>\n",
       "      <td>0.0</td>\n",
       "      <td>0.0</td>\n",
       "      <td>0.0</td>\n",
       "      <td>0.0</td>\n",
       "    </tr>\n",
       "    <tr>\n",
       "      <th>3</th>\n",
       "      <td>1978-12-31</td>\n",
       "      <td>0.0</td>\n",
       "      <td>0.0</td>\n",
       "      <td>0.0</td>\n",
       "      <td>0.0</td>\n",
       "    </tr>\n",
       "    <tr>\n",
       "      <th>4</th>\n",
       "      <td>1979-12-31</td>\n",
       "      <td>0.0</td>\n",
       "      <td>0.0</td>\n",
       "      <td>0.0</td>\n",
       "      <td>0.0</td>\n",
       "    </tr>\n",
       "    <tr>\n",
       "      <th>5</th>\n",
       "      <td>1980-12-31</td>\n",
       "      <td>0.0</td>\n",
       "      <td>0.0</td>\n",
       "      <td>0.0</td>\n",
       "      <td>0.0</td>\n",
       "    </tr>\n",
       "    <tr>\n",
       "      <th>6</th>\n",
       "      <td>1981-12-31</td>\n",
       "      <td>0.0</td>\n",
       "      <td>0.0</td>\n",
       "      <td>0.0</td>\n",
       "      <td>0.0</td>\n",
       "    </tr>\n",
       "    <tr>\n",
       "      <th>7</th>\n",
       "      <td>1982-12-31</td>\n",
       "      <td>0.0</td>\n",
       "      <td>0.0</td>\n",
       "      <td>0.0</td>\n",
       "      <td>0.0</td>\n",
       "    </tr>\n",
       "    <tr>\n",
       "      <th>8</th>\n",
       "      <td>1983-12-31</td>\n",
       "      <td>0.0</td>\n",
       "      <td>2.0</td>\n",
       "      <td>0.0</td>\n",
       "      <td>0.0</td>\n",
       "    </tr>\n",
       "    <tr>\n",
       "      <th>9</th>\n",
       "      <td>1984-12-31</td>\n",
       "      <td>0.0</td>\n",
       "      <td>5.0</td>\n",
       "      <td>0.0</td>\n",
       "      <td>0.0</td>\n",
       "    </tr>\n",
       "  </tbody>\n",
       "</table>\n",
       "</div>"
      ],
      "text/plain": [
       "company release_date  Microsoft  Nintendo  Sega  Sony\n",
       "0         1975-12-31        0.0       1.0   0.0   0.0\n",
       "1         1976-12-31        0.0       0.0   0.0   0.0\n",
       "2         1977-12-31        0.0       0.0   0.0   0.0\n",
       "3         1978-12-31        0.0       0.0   0.0   0.0\n",
       "4         1979-12-31        0.0       0.0   0.0   0.0\n",
       "5         1980-12-31        0.0       0.0   0.0   0.0\n",
       "6         1981-12-31        0.0       0.0   0.0   0.0\n",
       "7         1982-12-31        0.0       0.0   0.0   0.0\n",
       "8         1983-12-31        0.0       2.0   0.0   0.0\n",
       "9         1984-12-31        0.0       5.0   0.0   0.0"
      ]
     },
     "execution_count": 39,
     "metadata": {},
     "output_type": "execute_result"
    }
   ],
   "source": [
    "histo_company_counts.head(10)"
   ]
  },
  {
   "cell_type": "code",
   "execution_count": 40,
   "id": "839ddd20-3986-4657-a517-79fea1e9db46",
   "metadata": {
    "tags": []
   },
   "outputs": [],
   "source": [
    "# We will delete the indexes from 0 to 7, because these entries are empty and says nothing\n",
    "\n",
    "histo_company_counts.drop(index=range(0,8), inplace=True)"
   ]
  },
  {
   "cell_type": "code",
   "execution_count": 41,
   "id": "5af89151-0a42-4207-8f64-9923add7f694",
   "metadata": {
    "tags": []
   },
   "outputs": [
    {
     "data": {
      "image/png": "[encoded data removed]",
      "text/plain": [
       "<Figure size 1200x400 with 1 Axes>"
      ]
     },
     "metadata": {},
     "output_type": "display_data"
    }
   ],
   "source": [
    "colors= [\"#0e7a0d\", \"#FE0016\", \"#006FCD\", \"#0d0d0d\"]\n",
    "\n",
    "\n",
    "plt.figure(figsize=(12,4))\n",
    "\n",
    "for index, column in enumerate(histo_company_counts.columns[1:]):\n",
    "    plt.plot(histo_company_counts[\"release_date\"], histo_company_counts[column], label=column, color=colors[index])\n",
    "    plt.fill_between(histo_company_counts[\"release_date\"], histo_company_counts[column], color=colors[index], alpha=0.6)\n",
    "\n",
    "plt.title(\"Histogram of Video Games Releases by Company\")\n",
    "plt.xlabel(\"Years\")\n",
    "plt.ylabel(\"N of Releases\")\n",
    "plt.legend(title=\"Company\", bbox_to_anchor=(1.05, 1), loc=\"upper left\")\n",
    "plt.show()"
   ]
  },
  {
   "cell_type": "markdown",
   "id": "8f2a4e60-9381-4bce-9057-8e426508c796",
   "metadata": {},
   "source": [
    "<h2 style=\"color: #327a81;\">Video Games Sales</h2>"
   ]
  },
  {
   "cell_type": "markdown",
   "id": "f33cff8b-a06a-405d-bd03-05b205e2eff8",
   "metadata": {},
   "source": [
    "<h3 style=\"color: #60b671;\">Total Sales by Company</h3>"
   ]
  },
  {
   "cell_type": "code",
   "execution_count": 42,
   "id": "7f504155-2110-4425-b325-57017197779f",
   "metadata": {
    "tags": []
   },
   "outputs": [],
   "source": [
    "company_sales = df.groupby(\"company\")[\"total_sales\"].sum().sort_values(ascending=False)\n",
    "company_sales = company_sales.reset_index()"
   ]
  },
  {
   "cell_type": "code",
   "execution_count": 43,
   "id": "3171b2c7-4704-40e7-a70d-8246adc57fa2",
   "metadata": {
    "tags": []
   },
   "outputs": [
    {
     "data": {
      "text/html": [
       "<div>\n",
       "<style scoped>\n",
       "    .dataframe tbody tr th:only-of-type {\n",
       "        vertical-align: middle;\n",
       "    }\n",
       "\n",
       "    .dataframe tbody tr th {\n",
       "        vertical-align: top;\n",
       "    }\n",
       "\n",
       "    .dataframe thead th {\n",
       "        text-align: right;\n",
       "    }\n",
       "</style>\n",
       "<table border=\"1\" class=\"dataframe\">\n",
       "  <thead>\n",
       "    <tr style=\"text-align: right;\">\n",
       "      <th></th>\n",
       "      <th>company</th>\n",
       "      <th>total_sales</th>\n",
       "    </tr>\n",
       "  </thead>\n",
       "  <tbody>\n",
       "    <tr>\n",
       "      <th>0</th>\n",
       "      <td>Sony</td>\n",
       "      <td>3265.75</td>\n",
       "    </tr>\n",
       "    <tr>\n",
       "      <th>1</th>\n",
       "      <td>Nintendo</td>\n",
       "      <td>1598.67</td>\n",
       "    </tr>\n",
       "    <tr>\n",
       "      <th>2</th>\n",
       "      <td>Microsoft</td>\n",
       "      <td>1361.00</td>\n",
       "    </tr>\n",
       "    <tr>\n",
       "      <th>3</th>\n",
       "      <td>Sega</td>\n",
       "      <td>66.22</td>\n",
       "    </tr>\n",
       "  </tbody>\n",
       "</table>\n",
       "</div>"
      ],
      "text/plain": [
       "     company  total_sales\n",
       "0       Sony      3265.75\n",
       "1   Nintendo      1598.67\n",
       "2  Microsoft      1361.00\n",
       "3       Sega        66.22"
      ]
     },
     "execution_count": 43,
     "metadata": {},
     "output_type": "execute_result"
    }
   ],
   "source": [
    "company_sales"
   ]
  },
  {
   "cell_type": "code",
   "execution_count": 44,
   "id": "646a4348-96d5-416d-835c-7a3fe4d49a20",
   "metadata": {
    "tags": []
   },
   "outputs": [
    {
     "data": {
      "image/png": "[encoded data removed]",
      "text/plain": [
       "<Figure size 1200x400 with 1 Axes>"
      ]
     },
     "metadata": {},
     "output_type": "display_data"
    }
   ],
   "source": [
    "plt.figure(figsize=(12,4))\n",
    "company_sales_plot = sns.barplot(data=company_sales, x=\"company\", y=\"total_sales\", palette=[\"#006FCD\", \"#FE0016\", \"#0e7a0d\", \"#17569B\"])\n",
    "\n",
    "plt.xlabel(\"Videogame Company\")\n",
    "plt.ylabel(\"Sales in Millions\")\n",
    "plt.title(\"Total Sales by Company Platform\")\n",
    "\n",
    "for index, value in enumerate(company_sales[\"total_sales\"]):\n",
    "    plt.text(index, value, str(round(value, 2)), va='bottom', ha='center', fontsize=8) \n",
    "\n",
    "plt.tight_layout()\n",
    "plt.show()"
   ]
  },
  {
   "cell_type": "markdown",
   "id": "740c664a-26d1-4ef0-aba1-46a94445807a",
   "metadata": {},
   "source": [
    "<h3 style=\"color: #60b671;\">Histogram of Total Sales by Company</h3>"
   ]
  },
  {
   "cell_type": "code",
   "execution_count": 45,
   "id": "15816734-fb20-4844-98dd-7e0f8d4bf848",
   "metadata": {
    "tags": []
   },
   "outputs": [],
   "source": [
    "company_sales_dates = df.groupby([\"release_date\", \"company\"])[\"total_sales\"].sum()"
   ]
  },
  {
   "cell_type": "code",
   "execution_count": 46,
   "id": "22440526-6d56-4df0-a133-42ffaca0579d",
   "metadata": {
    "tags": []
   },
   "outputs": [],
   "source": [
    "company_sales_dates = company_sales_dates.reset_index()"
   ]
  },
  {
   "cell_type": "code",
   "execution_count": 47,
   "id": "9d68c389-eb2f-4e3c-9e16-073b9f0d66ae",
   "metadata": {
    "tags": []
   },
   "outputs": [],
   "source": [
    "company_sales_dates = company_sales_dates.loc[company_sales_dates[\"total_sales\"] != 0.0]"
   ]
  },
  {
   "cell_type": "code",
   "execution_count": 48,
   "id": "64ee3ce0-83eb-4c82-8b5b-ab24a02bce6a",
   "metadata": {
    "tags": []
   },
   "outputs": [
    {
     "data": {
      "text/html": [
       "<div>\n",
       "<style scoped>\n",
       "    .dataframe tbody tr th:only-of-type {\n",
       "        vertical-align: middle;\n",
       "    }\n",
       "\n",
       "    .dataframe tbody tr th {\n",
       "        vertical-align: top;\n",
       "    }\n",
       "\n",
       "    .dataframe thead th {\n",
       "        text-align: right;\n",
       "    }\n",
       "</style>\n",
       "<table border=\"1\" class=\"dataframe\">\n",
       "  <thead>\n",
       "    <tr style=\"text-align: right;\">\n",
       "      <th></th>\n",
       "      <th>release_date</th>\n",
       "      <th>company</th>\n",
       "      <th>total_sales</th>\n",
       "    </tr>\n",
       "  </thead>\n",
       "  <tbody>\n",
       "    <tr>\n",
       "      <th>6</th>\n",
       "      <td>1984-11-14</td>\n",
       "      <td>Nintendo</td>\n",
       "      <td>0.69</td>\n",
       "    </tr>\n",
       "    <tr>\n",
       "      <th>12</th>\n",
       "      <td>1985-06-04</td>\n",
       "      <td>Nintendo</td>\n",
       "      <td>0.41</td>\n",
       "    </tr>\n",
       "    <tr>\n",
       "      <th>21</th>\n",
       "      <td>1985-10-01</td>\n",
       "      <td>Nintendo</td>\n",
       "      <td>0.51</td>\n",
       "    </tr>\n",
       "    <tr>\n",
       "      <th>24</th>\n",
       "      <td>1985-10-18</td>\n",
       "      <td>Nintendo</td>\n",
       "      <td>0.82</td>\n",
       "    </tr>\n",
       "    <tr>\n",
       "      <th>38</th>\n",
       "      <td>1986-01-04</td>\n",
       "      <td>Nintendo</td>\n",
       "      <td>1.20</td>\n",
       "    </tr>\n",
       "    <tr>\n",
       "      <th>...</th>\n",
       "      <td>...</td>\n",
       "      <td>...</td>\n",
       "      <td>...</td>\n",
       "    </tr>\n",
       "    <tr>\n",
       "      <th>11500</th>\n",
       "      <td>2020-08-21</td>\n",
       "      <td>Sony</td>\n",
       "      <td>0.03</td>\n",
       "    </tr>\n",
       "    <tr>\n",
       "      <th>11576</th>\n",
       "      <td>2020-10-27</td>\n",
       "      <td>Sony</td>\n",
       "      <td>0.13</td>\n",
       "    </tr>\n",
       "    <tr>\n",
       "      <th>11630</th>\n",
       "      <td>2020-12-31</td>\n",
       "      <td>Nintendo</td>\n",
       "      <td>1.24</td>\n",
       "    </tr>\n",
       "    <tr>\n",
       "      <th>11631</th>\n",
       "      <td>2020-12-31</td>\n",
       "      <td>Sega</td>\n",
       "      <td>0.15</td>\n",
       "    </tr>\n",
       "    <tr>\n",
       "      <th>11632</th>\n",
       "      <td>2020-12-31</td>\n",
       "      <td>Sony</td>\n",
       "      <td>1.60</td>\n",
       "    </tr>\n",
       "  </tbody>\n",
       "</table>\n",
       "<p>6408 rows × 3 columns</p>\n",
       "</div>"
      ],
      "text/plain": [
       "      release_date   company  total_sales\n",
       "6       1984-11-14  Nintendo         0.69\n",
       "12      1985-06-04  Nintendo         0.41\n",
       "21      1985-10-01  Nintendo         0.51\n",
       "24      1985-10-18  Nintendo         0.82\n",
       "38      1986-01-04  Nintendo         1.20\n",
       "...            ...       ...          ...\n",
       "11500   2020-08-21      Sony         0.03\n",
       "11576   2020-10-27      Sony         0.13\n",
       "11630   2020-12-31  Nintendo         1.24\n",
       "11631   2020-12-31      Sega         0.15\n",
       "11632   2020-12-31      Sony         1.60\n",
       "\n",
       "[6408 rows x 3 columns]"
      ]
     },
     "execution_count": 48,
     "metadata": {},
     "output_type": "execute_result"
    }
   ],
   "source": [
    "company_sales_dates"
   ]
  },
  {
   "cell_type": "code",
   "execution_count": 49,
   "id": "f1b421f7-5751-4d61-91aa-7166a4dc7ec5",
   "metadata": {
    "tags": []
   },
   "outputs": [],
   "source": [
    "histo_company_sales = company_sales_dates.pivot_table(index=\"release_date\", columns= \"company\", values=\"total_sales\")"
   ]
  },
  {
   "cell_type": "code",
   "execution_count": 50,
   "id": "5a1cacb3-09e5-4d3d-93ce-045fc18e0db1",
   "metadata": {
    "tags": []
   },
   "outputs": [
    {
     "data": {
      "text/html": [
       "<div>\n",
       "<style scoped>\n",
       "    .dataframe tbody tr th:only-of-type {\n",
       "        vertical-align: middle;\n",
       "    }\n",
       "\n",
       "    .dataframe tbody tr th {\n",
       "        vertical-align: top;\n",
       "    }\n",
       "\n",
       "    .dataframe thead th {\n",
       "        text-align: right;\n",
       "    }\n",
       "</style>\n",
       "<table border=\"1\" class=\"dataframe\">\n",
       "  <thead>\n",
       "    <tr style=\"text-align: right;\">\n",
       "      <th>company</th>\n",
       "      <th>release_date</th>\n",
       "      <th>Microsoft</th>\n",
       "      <th>Nintendo</th>\n",
       "      <th>Sega</th>\n",
       "      <th>Sony</th>\n",
       "    </tr>\n",
       "  </thead>\n",
       "  <tbody>\n",
       "    <tr>\n",
       "      <th>0</th>\n",
       "      <td>1984-12-31</td>\n",
       "      <td>0.0</td>\n",
       "      <td>0.69</td>\n",
       "      <td>0.0</td>\n",
       "      <td>0.0</td>\n",
       "    </tr>\n",
       "    <tr>\n",
       "      <th>1</th>\n",
       "      <td>1985-12-31</td>\n",
       "      <td>0.0</td>\n",
       "      <td>1.74</td>\n",
       "      <td>0.0</td>\n",
       "      <td>0.0</td>\n",
       "    </tr>\n",
       "    <tr>\n",
       "      <th>2</th>\n",
       "      <td>1986-12-31</td>\n",
       "      <td>0.0</td>\n",
       "      <td>9.95</td>\n",
       "      <td>0.0</td>\n",
       "      <td>0.0</td>\n",
       "    </tr>\n",
       "    <tr>\n",
       "      <th>3</th>\n",
       "      <td>1987-12-31</td>\n",
       "      <td>0.0</td>\n",
       "      <td>4.39</td>\n",
       "      <td>0.0</td>\n",
       "      <td>0.0</td>\n",
       "    </tr>\n",
       "    <tr>\n",
       "      <th>4</th>\n",
       "      <td>1988-12-31</td>\n",
       "      <td>0.0</td>\n",
       "      <td>7.15</td>\n",
       "      <td>0.0</td>\n",
       "      <td>0.0</td>\n",
       "    </tr>\n",
       "  </tbody>\n",
       "</table>\n",
       "</div>"
      ],
      "text/plain": [
       "company release_date  Microsoft  Nintendo  Sega  Sony\n",
       "0         1984-12-31        0.0      0.69   0.0   0.0\n",
       "1         1985-12-31        0.0      1.74   0.0   0.0\n",
       "2         1986-12-31        0.0      9.95   0.0   0.0\n",
       "3         1987-12-31        0.0      4.39   0.0   0.0\n",
       "4         1988-12-31        0.0      7.15   0.0   0.0"
      ]
     },
     "execution_count": 50,
     "metadata": {},
     "output_type": "execute_result"
    }
   ],
   "source": [
    "histo_company_sales = histo_company_sales.resample(\"Y\").sum()\n",
    "histo_company_sales = histo_company_sales.reset_index()\n",
    "histo_company_sales.head(5)"
   ]
  },
  {
   "cell_type": "code",
   "execution_count": 51,
   "id": "af9d3f13-d3e0-41ee-b69b-1daa8775b471",
   "metadata": {
    "tags": []
   },
   "outputs": [
    {
     "data": {
      "image/png": "[encoded data removed]",
      "text/plain": [
       "<Figure size 1200x400 with 1 Axes>"
      ]
     },
     "metadata": {},
     "output_type": "display_data"
    }
   ],
   "source": [
    "plt.figure(figsize=(12,4))\n",
    "\n",
    "for index, column in enumerate(histo_company_sales.columns[1:]):\n",
    "    plt.plot(histo_company_sales[\"release_date\"], histo_company_sales[column], label=column, color=colors[index])\n",
    "    plt.fill_between(histo_company_sales[\"release_date\"], histo_company_sales[column], color=colors[index], alpha=0.6)\n",
    "\n",
    "plt.title(\"Histogram of Video Games Total Sales by Company\")\n",
    "plt.xlabel(\"Years\")\n",
    "plt.ylabel(\"Sales in Millions\")\n",
    "plt.legend(title=\"Company\", bbox_to_anchor=(1.05, 1), loc=\"upper left\")\n",
    "plt.show()"
   ]
  },
  {
   "cell_type": "markdown",
   "id": "c0c407ab-842d-41de-8001-64d5b06b87c8",
   "metadata": {},
   "source": [
    "<h2 style=\"color: #327a81;\">Exclusive Games by Company</h2>"
   ]
  },
  {
   "cell_type": "code",
   "execution_count": 52,
   "id": "6c224502-9fea-41ca-8a02-87b6d3760914",
   "metadata": {
    "tags": []
   },
   "outputs": [
    {
     "data": {
      "text/html": [
       "<div>\n",
       "<style scoped>\n",
       "    .dataframe tbody tr th:only-of-type {\n",
       "        vertical-align: middle;\n",
       "    }\n",
       "\n",
       "    .dataframe tbody tr th {\n",
       "        vertical-align: top;\n",
       "    }\n",
       "\n",
       "    .dataframe thead th {\n",
       "        text-align: right;\n",
       "    }\n",
       "</style>\n",
       "<table border=\"1\" class=\"dataframe\">\n",
       "  <thead>\n",
       "    <tr style=\"text-align: right;\">\n",
       "      <th></th>\n",
       "      <th>title</th>\n",
       "      <th>company</th>\n",
       "    </tr>\n",
       "  </thead>\n",
       "  <tbody>\n",
       "    <tr>\n",
       "      <th>0</th>\n",
       "      <td>#DRIVE Rally</td>\n",
       "      <td>[Sony, Microsoft, Nintendo]</td>\n",
       "    </tr>\n",
       "    <tr>\n",
       "      <th>1</th>\n",
       "      <td>#IDARB</td>\n",
       "      <td>[Microsoft]</td>\n",
       "    </tr>\n",
       "    <tr>\n",
       "      <th>2</th>\n",
       "      <td>#killallzombies</td>\n",
       "      <td>[Sony]</td>\n",
       "    </tr>\n",
       "    <tr>\n",
       "      <th>3</th>\n",
       "      <td>'70s Robot Anime: Geppy-X</td>\n",
       "      <td>[Sony]</td>\n",
       "    </tr>\n",
       "    <tr>\n",
       "      <th>4</th>\n",
       "      <td>'98 Koshien</td>\n",
       "      <td>[Sony]</td>\n",
       "    </tr>\n",
       "    <tr>\n",
       "      <th>...</th>\n",
       "      <td>...</td>\n",
       "      <td>...</td>\n",
       "    </tr>\n",
       "    <tr>\n",
       "      <th>28195</th>\n",
       "      <td>yOm</td>\n",
       "      <td>[Microsoft]</td>\n",
       "    </tr>\n",
       "    <tr>\n",
       "      <th>28196</th>\n",
       "      <td>yOm_fury</td>\n",
       "      <td>[Microsoft]</td>\n",
       "    </tr>\n",
       "    <tr>\n",
       "      <th>28197</th>\n",
       "      <td>¡Shin Chan Flipa en colores!</td>\n",
       "      <td>[Nintendo]</td>\n",
       "    </tr>\n",
       "    <tr>\n",
       "      <th>28198</th>\n",
       "      <td>じんるいのみなさまへ</td>\n",
       "      <td>[Nintendo]</td>\n",
       "    </tr>\n",
       "    <tr>\n",
       "      <th>28199</th>\n",
       "      <td>レミロア~少女と異世界と魔導書</td>\n",
       "      <td>[Nintendo]</td>\n",
       "    </tr>\n",
       "  </tbody>\n",
       "</table>\n",
       "<p>28200 rows × 2 columns</p>\n",
       "</div>"
      ],
      "text/plain": [
       "                              title                      company\n",
       "0                      #DRIVE Rally  [Sony, Microsoft, Nintendo]\n",
       "1                            #IDARB                  [Microsoft]\n",
       "2                   #killallzombies                       [Sony]\n",
       "3         '70s Robot Anime: Geppy-X                       [Sony]\n",
       "4                       '98 Koshien                       [Sony]\n",
       "...                             ...                          ...\n",
       "28195                           yOm                  [Microsoft]\n",
       "28196                      yOm_fury                  [Microsoft]\n",
       "28197  ¡Shin Chan Flipa en colores!                   [Nintendo]\n",
       "28198                    じんるいのみなさまへ                   [Nintendo]\n",
       "28199               レミロア~少女と異世界と魔導書                   [Nintendo]\n",
       "\n",
       "[28200 rows x 2 columns]"
      ]
     },
     "execution_count": 52,
     "metadata": {},
     "output_type": "execute_result"
    }
   ],
   "source": [
    "titles_by_companies = df.groupby([\"title\"])[\"company\"].unique().reset_index()\n",
    "titles_by_companies"
   ]
  },
  {
   "cell_type": "code",
   "execution_count": 53,
   "id": "89832a78-2d6c-44e3-b4a8-e7422a2a936a",
   "metadata": {
    "tags": []
   },
   "outputs": [
    {
     "data": {
      "text/html": [
       "<div>\n",
       "<style scoped>\n",
       "    .dataframe tbody tr th:only-of-type {\n",
       "        vertical-align: middle;\n",
       "    }\n",
       "\n",
       "    .dataframe tbody tr th {\n",
       "        vertical-align: top;\n",
       "    }\n",
       "\n",
       "    .dataframe thead th {\n",
       "        text-align: right;\n",
       "    }\n",
       "</style>\n",
       "<table border=\"1\" class=\"dataframe\">\n",
       "  <thead>\n",
       "    <tr style=\"text-align: right;\">\n",
       "      <th></th>\n",
       "      <th>title</th>\n",
       "      <th>company</th>\n",
       "    </tr>\n",
       "  </thead>\n",
       "  <tbody>\n",
       "    <tr>\n",
       "      <th>1</th>\n",
       "      <td>#IDARB</td>\n",
       "      <td>[Microsoft]</td>\n",
       "    </tr>\n",
       "    <tr>\n",
       "      <th>2</th>\n",
       "      <td>#killallzombies</td>\n",
       "      <td>[Sony]</td>\n",
       "    </tr>\n",
       "    <tr>\n",
       "      <th>3</th>\n",
       "      <td>'70s Robot Anime: Geppy-X</td>\n",
       "      <td>[Sony]</td>\n",
       "    </tr>\n",
       "    <tr>\n",
       "      <th>4</th>\n",
       "      <td>'98 Koshien</td>\n",
       "      <td>[Sony]</td>\n",
       "    </tr>\n",
       "    <tr>\n",
       "      <th>5</th>\n",
       "      <td>'99 Koshien</td>\n",
       "      <td>[Sony]</td>\n",
       "    </tr>\n",
       "    <tr>\n",
       "      <th>...</th>\n",
       "      <td>...</td>\n",
       "      <td>...</td>\n",
       "    </tr>\n",
       "    <tr>\n",
       "      <th>28195</th>\n",
       "      <td>yOm</td>\n",
       "      <td>[Microsoft]</td>\n",
       "    </tr>\n",
       "    <tr>\n",
       "      <th>28196</th>\n",
       "      <td>yOm_fury</td>\n",
       "      <td>[Microsoft]</td>\n",
       "    </tr>\n",
       "    <tr>\n",
       "      <th>28197</th>\n",
       "      <td>¡Shin Chan Flipa en colores!</td>\n",
       "      <td>[Nintendo]</td>\n",
       "    </tr>\n",
       "    <tr>\n",
       "      <th>28198</th>\n",
       "      <td>じんるいのみなさまへ</td>\n",
       "      <td>[Nintendo]</td>\n",
       "    </tr>\n",
       "    <tr>\n",
       "      <th>28199</th>\n",
       "      <td>レミロア~少女と異世界と魔導書</td>\n",
       "      <td>[Nintendo]</td>\n",
       "    </tr>\n",
       "  </tbody>\n",
       "</table>\n",
       "<p>22290 rows × 2 columns</p>\n",
       "</div>"
      ],
      "text/plain": [
       "                              title      company\n",
       "1                            #IDARB  [Microsoft]\n",
       "2                   #killallzombies       [Sony]\n",
       "3         '70s Robot Anime: Geppy-X       [Sony]\n",
       "4                       '98 Koshien       [Sony]\n",
       "5                       '99 Koshien       [Sony]\n",
       "...                             ...          ...\n",
       "28195                           yOm  [Microsoft]\n",
       "28196                      yOm_fury  [Microsoft]\n",
       "28197  ¡Shin Chan Flipa en colores!   [Nintendo]\n",
       "28198                    じんるいのみなさまへ   [Nintendo]\n",
       "28199               レミロア~少女と異世界と魔導書   [Nintendo]\n",
       "\n",
       "[22290 rows x 2 columns]"
      ]
     },
     "execution_count": 53,
     "metadata": {},
     "output_type": "execute_result"
    }
   ],
   "source": [
    "titles_exclusives = titles_by_companies[titles_by_companies[\"company\"].apply(lambda x: len(x) == 1)]\n",
    "titles_exclusives"
   ]
  },
  {
   "cell_type": "code",
   "execution_count": 54,
   "id": "e34c1610-d77c-4864-a4f9-3af7d2951f1f",
   "metadata": {
    "tags": []
   },
   "outputs": [],
   "source": [
    "exclusives_sony = []\n",
    "exclusives_microsoft = []\n",
    "exclusives_sega = []\n",
    "exclusives_nintendo = []\n",
    "\n",
    "for index, row in titles_exclusives.iterrows():\n",
    "    if \"Microsoft\" in row[\"company\"]:\n",
    "        exclusives_microsoft.append(row[\"title\"])\n",
    "    elif \"Sony\" in row[\"company\"]:\n",
    "        exclusives_sony.append(row[\"title\"])\n",
    "    elif \"Sega\" in row[\"company\"]:\n",
    "        exclusives_sega.append(row[\"title\"])\n",
    "    elif \"Nintendo\" in row[\"company\"]:\n",
    "        exclusives_nintendo.append(row[\"title\"])"
   ]
  },
  {
   "cell_type": "code",
   "execution_count": 55,
   "id": "33e79f9f-045b-4cdc-9a00-b8baabc05e29",
   "metadata": {
    "tags": []
   },
   "outputs": [
    {
     "name": "stdout",
     "output_type": "stream",
     "text": [
      "Sony has 7942 exclusive titles\n",
      "Microsoft has 2365 exclusive titles\n",
      "Nintendo has 10162 exclusive titles\n",
      "Sega has 1821 exclusive titles\n"
     ]
    }
   ],
   "source": [
    "print(f\"Sony has {len(exclusives_sony)} exclusive titles\")\n",
    "print(f\"Microsoft has {len(exclusives_microsoft)} exclusive titles\")\n",
    "print(f\"Nintendo has {len(exclusives_nintendo)} exclusive titles\")\n",
    "print(f\"Sega has {len(exclusives_sega)} exclusive titles\")"
   ]
  },
  {
   "cell_type": "markdown",
   "id": "17feacdd-4bb0-467c-b49e-a4107236dd39",
   "metadata": {},
   "source": [
    "<h3 style=\"color: #60b671;\">Exclusive best sellers by company</h3>"
   ]
  },
  {
   "cell_type": "markdown",
   "id": "2b4dcb24-03b1-4b19-80ed-1241cbfe1f55",
   "metadata": {},
   "source": [
    "- There is a lot of missing data to find out which exclusive titles are the best-selling by company with accuracy. But anyway let's see the results with the data we have."
   ]
  },
  {
   "cell_type": "code",
   "execution_count": 56,
   "id": "58efab0f-5215-4b6e-b429-ec633e32ba74",
   "metadata": {},
   "outputs": [],
   "source": [
    "exclusives_sega_df = df[df[\"title\"].isin(exclusives_sega)]"
   ]
  },
  {
   "cell_type": "code",
   "execution_count": 57,
   "id": "663853fd-24b7-42ba-b8d1-53912d8516a3",
   "metadata": {
    "tags": []
   },
   "outputs": [],
   "source": [
    "exclusive_sega_sales = exclusives_sega_df.groupby(\"title\")[\"total_sales\"].sum().sort_values(ascending=False).reset_index()"
   ]
  },
  {
   "cell_type": "code",
   "execution_count": 58,
   "id": "85556653-5034-4a42-b93e-e42889382e6f",
   "metadata": {
    "tags": []
   },
   "outputs": [
    {
     "data": {
      "text/html": [
       "<div>\n",
       "<style scoped>\n",
       "    .dataframe tbody tr th:only-of-type {\n",
       "        vertical-align: middle;\n",
       "    }\n",
       "\n",
       "    .dataframe tbody tr th {\n",
       "        vertical-align: top;\n",
       "    }\n",
       "\n",
       "    .dataframe thead th {\n",
       "        text-align: right;\n",
       "    }\n",
       "</style>\n",
       "<table border=\"1\" class=\"dataframe\">\n",
       "  <thead>\n",
       "    <tr style=\"text-align: right;\">\n",
       "      <th></th>\n",
       "      <th>title</th>\n",
       "      <th>total_sales</th>\n",
       "    </tr>\n",
       "  </thead>\n",
       "  <tbody>\n",
       "    <tr>\n",
       "      <th>0</th>\n",
       "      <td>Mortal Kombat II (US &amp; Others sales)</td>\n",
       "      <td>2.39</td>\n",
       "    </tr>\n",
       "    <tr>\n",
       "      <th>1</th>\n",
       "      <td>Virtua Fighter 2</td>\n",
       "      <td>1.93</td>\n",
       "    </tr>\n",
       "    <tr>\n",
       "      <th>2</th>\n",
       "      <td>NFL 2K</td>\n",
       "      <td>1.20</td>\n",
       "    </tr>\n",
       "    <tr>\n",
       "      <th>3</th>\n",
       "      <td>NFL 2K1</td>\n",
       "      <td>1.09</td>\n",
       "    </tr>\n",
       "    <tr>\n",
       "      <th>4</th>\n",
       "      <td>Virtua Fighter</td>\n",
       "      <td>1.07</td>\n",
       "    </tr>\n",
       "    <tr>\n",
       "      <th>5</th>\n",
       "      <td>Sakura Wars</td>\n",
       "      <td>0.66</td>\n",
       "    </tr>\n",
       "    <tr>\n",
       "      <th>6</th>\n",
       "      <td>Virtua Cop</td>\n",
       "      <td>0.62</td>\n",
       "    </tr>\n",
       "    <tr>\n",
       "      <th>7</th>\n",
       "      <td>Fighters MEGAMiX</td>\n",
       "      <td>0.62</td>\n",
       "    </tr>\n",
       "    <tr>\n",
       "      <th>8</th>\n",
       "      <td>Puyo Puyo Sun</td>\n",
       "      <td>0.60</td>\n",
       "    </tr>\n",
       "    <tr>\n",
       "      <th>9</th>\n",
       "      <td>Sakura Taisen 2 - Kimi, Shinitamou Koto Nakare</td>\n",
       "      <td>0.53</td>\n",
       "    </tr>\n",
       "  </tbody>\n",
       "</table>\n",
       "</div>"
      ],
      "text/plain": [
       "                                            title  total_sales\n",
       "0            Mortal Kombat II (US & Others sales)         2.39\n",
       "1                                Virtua Fighter 2         1.93\n",
       "2                                          NFL 2K         1.20\n",
       "3                                         NFL 2K1         1.09\n",
       "4                                  Virtua Fighter         1.07\n",
       "5                                     Sakura Wars         0.66\n",
       "6                                      Virtua Cop         0.62\n",
       "7                                Fighters MEGAMiX         0.62\n",
       "8                                   Puyo Puyo Sun         0.60\n",
       "9  Sakura Taisen 2 - Kimi, Shinitamou Koto Nakare         0.53"
      ]
     },
     "execution_count": 58,
     "metadata": {},
     "output_type": "execute_result"
    }
   ],
   "source": [
    "exclusive_sega_sales.head(10)"
   ]
  },
  {
   "cell_type": "code",
   "execution_count": 59,
   "id": "aed7885f-9e0e-42a8-938c-f27cc1c250b7",
   "metadata": {
    "tags": []
   },
   "outputs": [],
   "source": [
    "exclusives_nintendo_df = df[df[\"title\"].isin(exclusives_nintendo)]"
   ]
  },
  {
   "cell_type": "code",
   "execution_count": 60,
   "id": "b2141cb3-7e7e-47ab-97e4-0e9e2e295c08",
   "metadata": {},
   "outputs": [],
   "source": [
    "exclusive_nintendo_sales = exclusives_nintendo_df.groupby(\"title\")[\"total_sales\"].sum().sort_values(ascending=False).reset_index()"
   ]
  },
  {
   "cell_type": "code",
   "execution_count": 61,
   "id": "fe6f5096-8994-49a0-a72d-7b95b03cd6ea",
   "metadata": {
    "tags": []
   },
   "outputs": [
    {
     "data": {
      "text/html": [
       "<div>\n",
       "<style scoped>\n",
       "    .dataframe tbody tr th:only-of-type {\n",
       "        vertical-align: middle;\n",
       "    }\n",
       "\n",
       "    .dataframe tbody tr th {\n",
       "        vertical-align: top;\n",
       "    }\n",
       "\n",
       "    .dataframe thead th {\n",
       "        text-align: right;\n",
       "    }\n",
       "</style>\n",
       "<table border=\"1\" class=\"dataframe\">\n",
       "  <thead>\n",
       "    <tr style=\"text-align: right;\">\n",
       "      <th></th>\n",
       "      <th>title</th>\n",
       "      <th>total_sales</th>\n",
       "    </tr>\n",
       "  </thead>\n",
       "  <tbody>\n",
       "    <tr>\n",
       "      <th>0</th>\n",
       "      <td>Mario &amp; Sonic at the Olympic Winter Games</td>\n",
       "      <td>8.01</td>\n",
       "    </tr>\n",
       "    <tr>\n",
       "      <th>1</th>\n",
       "      <td>Cooking Mama</td>\n",
       "      <td>5.66</td>\n",
       "    </tr>\n",
       "    <tr>\n",
       "      <th>2</th>\n",
       "      <td>MySims</td>\n",
       "      <td>5.31</td>\n",
       "    </tr>\n",
       "    <tr>\n",
       "      <th>3</th>\n",
       "      <td>Mario &amp; Sonic at the Olympic Games</td>\n",
       "      <td>5.10</td>\n",
       "    </tr>\n",
       "    <tr>\n",
       "      <th>4</th>\n",
       "      <td>Cooking Mama 2: Dinner With Friends</td>\n",
       "      <td>3.58</td>\n",
       "    </tr>\n",
       "    <tr>\n",
       "      <th>5</th>\n",
       "      <td>Guitar Hero: On Tour</td>\n",
       "      <td>3.46</td>\n",
       "    </tr>\n",
       "    <tr>\n",
       "      <th>6</th>\n",
       "      <td>Club Penguin: Elite Penguin Force</td>\n",
       "      <td>3.14</td>\n",
       "    </tr>\n",
       "    <tr>\n",
       "      <th>7</th>\n",
       "      <td>MySims Kingdom</td>\n",
       "      <td>3.08</td>\n",
       "    </tr>\n",
       "    <tr>\n",
       "      <th>8</th>\n",
       "      <td>Deal or No Deal</td>\n",
       "      <td>3.01</td>\n",
       "    </tr>\n",
       "    <tr>\n",
       "      <th>9</th>\n",
       "      <td>Imagine: Fashion Designer</td>\n",
       "      <td>2.96</td>\n",
       "    </tr>\n",
       "  </tbody>\n",
       "</table>\n",
       "</div>"
      ],
      "text/plain": [
       "                                       title  total_sales\n",
       "0  Mario & Sonic at the Olympic Winter Games         8.01\n",
       "1                               Cooking Mama         5.66\n",
       "2                                     MySims         5.31\n",
       "3         Mario & Sonic at the Olympic Games         5.10\n",
       "4        Cooking Mama 2: Dinner With Friends         3.58\n",
       "5                       Guitar Hero: On Tour         3.46\n",
       "6          Club Penguin: Elite Penguin Force         3.14\n",
       "7                             MySims Kingdom         3.08\n",
       "8                            Deal or No Deal         3.01\n",
       "9                  Imagine: Fashion Designer         2.96"
      ]
     },
     "execution_count": 61,
     "metadata": {},
     "output_type": "execute_result"
    }
   ],
   "source": [
    "exclusive_nintendo_sales.head(10)"
   ]
  },
  {
   "cell_type": "code",
   "execution_count": 62,
   "id": "53b54996-c94e-43e3-9397-624e2b08925e",
   "metadata": {
    "tags": []
   },
   "outputs": [],
   "source": [
    "exclusives_sony_df = df[df[\"title\"].isin(exclusives_sony)]"
   ]
  },
  {
   "cell_type": "code",
   "execution_count": 63,
   "id": "85ac2cd6-8bea-43ab-8eab-4fcbbe2db0d7",
   "metadata": {
    "tags": []
   },
   "outputs": [],
   "source": [
    "exclusive_sony_sales = exclusives_sony_df.groupby(\"title\")[\"total_sales\"].sum().sort_values(ascending=False).reset_index()"
   ]
  },
  {
   "cell_type": "code",
   "execution_count": 64,
   "id": "f0379715-2c16-4800-8caf-0009a3ecc9a1",
   "metadata": {
    "tags": []
   },
   "outputs": [
    {
     "data": {
      "text/html": [
       "<div>\n",
       "<style scoped>\n",
       "    .dataframe tbody tr th:only-of-type {\n",
       "        vertical-align: middle;\n",
       "    }\n",
       "\n",
       "    .dataframe tbody tr th {\n",
       "        vertical-align: top;\n",
       "    }\n",
       "\n",
       "    .dataframe thead th {\n",
       "        text-align: right;\n",
       "    }\n",
       "</style>\n",
       "<table border=\"1\" class=\"dataframe\">\n",
       "  <thead>\n",
       "    <tr style=\"text-align: right;\">\n",
       "      <th></th>\n",
       "      <th>title</th>\n",
       "      <th>total_sales</th>\n",
       "    </tr>\n",
       "  </thead>\n",
       "  <tbody>\n",
       "    <tr>\n",
       "      <th>0</th>\n",
       "      <td>Grand Theft Auto: Vice City</td>\n",
       "      <td>16.15</td>\n",
       "    </tr>\n",
       "    <tr>\n",
       "      <th>1</th>\n",
       "      <td>Grand Theft Auto: Liberty City Stories</td>\n",
       "      <td>11.26</td>\n",
       "    </tr>\n",
       "    <tr>\n",
       "      <th>2</th>\n",
       "      <td>Uncharted 2: Among Thieves</td>\n",
       "      <td>6.74</td>\n",
       "    </tr>\n",
       "    <tr>\n",
       "      <th>3</th>\n",
       "      <td>Gran Turismo (PSP)</td>\n",
       "      <td>6.09</td>\n",
       "    </tr>\n",
       "    <tr>\n",
       "      <th>4</th>\n",
       "      <td>Grand Theft Auto: Vice City Stories</td>\n",
       "      <td>6.05</td>\n",
       "    </tr>\n",
       "    <tr>\n",
       "      <th>5</th>\n",
       "      <td>Tekken 2</td>\n",
       "      <td>5.74</td>\n",
       "    </tr>\n",
       "    <tr>\n",
       "      <th>6</th>\n",
       "      <td>Hot Shots Golf</td>\n",
       "      <td>5.35</td>\n",
       "    </tr>\n",
       "    <tr>\n",
       "      <th>7</th>\n",
       "      <td>Tomb Raider II</td>\n",
       "      <td>5.24</td>\n",
       "    </tr>\n",
       "    <tr>\n",
       "      <th>8</th>\n",
       "      <td>Warzone 2100</td>\n",
       "      <td>5.01</td>\n",
       "    </tr>\n",
       "    <tr>\n",
       "      <th>9</th>\n",
       "      <td>Uncharted: Drake's Fortune</td>\n",
       "      <td>4.97</td>\n",
       "    </tr>\n",
       "  </tbody>\n",
       "</table>\n",
       "</div>"
      ],
      "text/plain": [
       "                                    title  total_sales\n",
       "0             Grand Theft Auto: Vice City        16.15\n",
       "1  Grand Theft Auto: Liberty City Stories        11.26\n",
       "2              Uncharted 2: Among Thieves         6.74\n",
       "3                      Gran Turismo (PSP)         6.09\n",
       "4     Grand Theft Auto: Vice City Stories         6.05\n",
       "5                                Tekken 2         5.74\n",
       "6                          Hot Shots Golf         5.35\n",
       "7                          Tomb Raider II         5.24\n",
       "8                            Warzone 2100         5.01\n",
       "9              Uncharted: Drake's Fortune         4.97"
      ]
     },
     "execution_count": 64,
     "metadata": {},
     "output_type": "execute_result"
    }
   ],
   "source": [
    "exclusive_sony_sales.head(10)"
   ]
  },
  {
   "cell_type": "code",
   "execution_count": 65,
   "id": "871f14c7-66f0-4122-aeb1-42c5bae1fceb",
   "metadata": {
    "tags": []
   },
   "outputs": [],
   "source": [
    "exclusives_microsoft_df = df[df[\"title\"].isin(exclusives_microsoft)]"
   ]
  },
  {
   "cell_type": "code",
   "execution_count": 66,
   "id": "4aeabcc2-7137-432b-a960-48ae5770e765",
   "metadata": {
    "tags": []
   },
   "outputs": [],
   "source": [
    "exclusive_microsoft_sales = exclusives_microsoft_df.groupby(\"title\")[\"total_sales\"].sum().sort_values(ascending=False).reset_index()"
   ]
  },
  {
   "cell_type": "code",
   "execution_count": 67,
   "id": "c959919a-6403-4983-9c32-146e8eb385e1",
   "metadata": {
    "tags": []
   },
   "outputs": [
    {
     "data": {
      "text/html": [
       "<div>\n",
       "<style scoped>\n",
       "    .dataframe tbody tr th:only-of-type {\n",
       "        vertical-align: middle;\n",
       "    }\n",
       "\n",
       "    .dataframe tbody tr th {\n",
       "        vertical-align: top;\n",
       "    }\n",
       "\n",
       "    .dataframe thead th {\n",
       "        text-align: right;\n",
       "    }\n",
       "</style>\n",
       "<table border=\"1\" class=\"dataframe\">\n",
       "  <thead>\n",
       "    <tr style=\"text-align: right;\">\n",
       "      <th></th>\n",
       "      <th>title</th>\n",
       "      <th>total_sales</th>\n",
       "    </tr>\n",
       "  </thead>\n",
       "  <tbody>\n",
       "    <tr>\n",
       "      <th>0</th>\n",
       "      <td>Halo: Reach</td>\n",
       "      <td>9.97</td>\n",
       "    </tr>\n",
       "    <tr>\n",
       "      <th>1</th>\n",
       "      <td>Halo 4</td>\n",
       "      <td>9.96</td>\n",
       "    </tr>\n",
       "    <tr>\n",
       "      <th>2</th>\n",
       "      <td>Forza Motorsport 3</td>\n",
       "      <td>5.50</td>\n",
       "    </tr>\n",
       "    <tr>\n",
       "      <th>3</th>\n",
       "      <td>Fable III</td>\n",
       "      <td>5.10</td>\n",
       "    </tr>\n",
       "    <tr>\n",
       "      <th>4</th>\n",
       "      <td>Forza Motorsport 4</td>\n",
       "      <td>4.60</td>\n",
       "    </tr>\n",
       "    <tr>\n",
       "      <th>5</th>\n",
       "      <td>Titanfall</td>\n",
       "      <td>4.49</td>\n",
       "    </tr>\n",
       "    <tr>\n",
       "      <th>6</th>\n",
       "      <td>Forza Motorsport 2</td>\n",
       "      <td>4.05</td>\n",
       "    </tr>\n",
       "    <tr>\n",
       "      <th>7</th>\n",
       "      <td>Halo: The Master Chief Collection</td>\n",
       "      <td>3.44</td>\n",
       "    </tr>\n",
       "    <tr>\n",
       "      <th>8</th>\n",
       "      <td>Gears of War 4</td>\n",
       "      <td>3.38</td>\n",
       "    </tr>\n",
       "    <tr>\n",
       "      <th>9</th>\n",
       "      <td>Mass Effect</td>\n",
       "      <td>2.91</td>\n",
       "    </tr>\n",
       "  </tbody>\n",
       "</table>\n",
       "</div>"
      ],
      "text/plain": [
       "                               title  total_sales\n",
       "0                        Halo: Reach         9.97\n",
       "1                             Halo 4         9.96\n",
       "2                 Forza Motorsport 3         5.50\n",
       "3                          Fable III         5.10\n",
       "4                 Forza Motorsport 4         4.60\n",
       "5                          Titanfall         4.49\n",
       "6                 Forza Motorsport 2         4.05\n",
       "7  Halo: The Master Chief Collection         3.44\n",
       "8                     Gears of War 4         3.38\n",
       "9                        Mass Effect         2.91"
      ]
     },
     "execution_count": 67,
     "metadata": {},
     "output_type": "execute_result"
    }
   ],
   "source": [
    "exclusive_microsoft_sales.head(10)"
   ]
  },
  {
   "cell_type": "markdown",
   "id": "0a14870b-ec0c-456f-b1d2-b76dcafa646f",
   "metadata": {},
   "source": [
    "<h3 style=\"color: #60b671;\">Top rated exclusives in metacritic by company</h3>"
   ]
  },
  {
   "cell_type": "code",
   "execution_count": 68,
   "id": "f87754f0-4f0a-4a5e-bd9b-9b9775bb1b3c",
   "metadata": {
    "tags": []
   },
   "outputs": [],
   "source": [
    "exclusive_sega_scores = exclusives_sega_df.groupby([\"title\", \"company\"])[\"critic_score\"].mean().sort_values(ascending=False).reset_index()"
   ]
  },
  {
   "cell_type": "code",
   "execution_count": 69,
   "id": "9690ac56-31b9-4c0b-ba97-66deee5c4fed",
   "metadata": {
    "tags": []
   },
   "outputs": [
    {
     "data": {
      "text/html": [
       "<div>\n",
       "<style scoped>\n",
       "    .dataframe tbody tr th:only-of-type {\n",
       "        vertical-align: middle;\n",
       "    }\n",
       "\n",
       "    .dataframe tbody tr th {\n",
       "        vertical-align: top;\n",
       "    }\n",
       "\n",
       "    .dataframe thead th {\n",
       "        text-align: right;\n",
       "    }\n",
       "</style>\n",
       "<table border=\"1\" class=\"dataframe\">\n",
       "  <thead>\n",
       "    <tr style=\"text-align: right;\">\n",
       "      <th></th>\n",
       "      <th>title</th>\n",
       "      <th>company</th>\n",
       "      <th>critic_score</th>\n",
       "    </tr>\n",
       "  </thead>\n",
       "  <tbody>\n",
       "    <tr>\n",
       "      <th>0</th>\n",
       "      <td>NFL 2K</td>\n",
       "      <td>Sega</td>\n",
       "      <td>9.7</td>\n",
       "    </tr>\n",
       "    <tr>\n",
       "      <th>1</th>\n",
       "      <td>Samba De Amigo Ver. 2000</td>\n",
       "      <td>Sega</td>\n",
       "      <td>9.6</td>\n",
       "    </tr>\n",
       "    <tr>\n",
       "      <th>2</th>\n",
       "      <td>NFL 2K1</td>\n",
       "      <td>Sega</td>\n",
       "      <td>9.6</td>\n",
       "    </tr>\n",
       "    <tr>\n",
       "      <th>3</th>\n",
       "      <td>Jet Coaster Dream 2</td>\n",
       "      <td>Sega</td>\n",
       "      <td>9.4</td>\n",
       "    </tr>\n",
       "    <tr>\n",
       "      <th>4</th>\n",
       "      <td>Quake III Arena</td>\n",
       "      <td>Sega</td>\n",
       "      <td>9.3</td>\n",
       "    </tr>\n",
       "    <tr>\n",
       "      <th>5</th>\n",
       "      <td>Skies of Arcadia</td>\n",
       "      <td>Sega</td>\n",
       "      <td>9.2</td>\n",
       "    </tr>\n",
       "    <tr>\n",
       "      <th>6</th>\n",
       "      <td>NBA 2K1</td>\n",
       "      <td>Sega</td>\n",
       "      <td>9.2</td>\n",
       "    </tr>\n",
       "    <tr>\n",
       "      <th>7</th>\n",
       "      <td>Resident Evil - Code: Veronica</td>\n",
       "      <td>Sega</td>\n",
       "      <td>9.2</td>\n",
       "    </tr>\n",
       "    <tr>\n",
       "      <th>8</th>\n",
       "      <td>Panzer Dragoon Saga</td>\n",
       "      <td>Sega</td>\n",
       "      <td>9.1</td>\n",
       "    </tr>\n",
       "    <tr>\n",
       "      <th>9</th>\n",
       "      <td>Legacy Of Kain: Soul Reaver</td>\n",
       "      <td>Sega</td>\n",
       "      <td>9.1</td>\n",
       "    </tr>\n",
       "  </tbody>\n",
       "</table>\n",
       "</div>"
      ],
      "text/plain": [
       "                            title company  critic_score\n",
       "0                          NFL 2K    Sega           9.7\n",
       "1        Samba De Amigo Ver. 2000    Sega           9.6\n",
       "2                         NFL 2K1    Sega           9.6\n",
       "3             Jet Coaster Dream 2    Sega           9.4\n",
       "4                 Quake III Arena    Sega           9.3\n",
       "5                Skies of Arcadia    Sega           9.2\n",
       "6                         NBA 2K1    Sega           9.2\n",
       "7  Resident Evil - Code: Veronica    Sega           9.2\n",
       "8             Panzer Dragoon Saga    Sega           9.1\n",
       "9     Legacy Of Kain: Soul Reaver    Sega           9.1"
      ]
     },
     "execution_count": 69,
     "metadata": {},
     "output_type": "execute_result"
    }
   ],
   "source": [
    "exclusives_top_sega = exclusive_sega_scores.head(10)\n",
    "exclusives_top_sega"
   ]
  },
  {
   "cell_type": "code",
   "execution_count": 70,
   "id": "2c9a163d-3b64-42e4-868f-edafe19809f9",
   "metadata": {
    "tags": []
   },
   "outputs": [],
   "source": [
    "exclusive_nintendo_scores = exclusives_nintendo_df.groupby([\"title\", \"company\"])[\"critic_score\"].mean().sort_values(ascending=False).reset_index()"
   ]
  },
  {
   "cell_type": "code",
   "execution_count": 71,
   "id": "7a005fec-a726-4210-b000-54ea67594bff",
   "metadata": {
    "tags": []
   },
   "outputs": [
    {
     "data": {
      "text/html": [
       "<div>\n",
       "<style scoped>\n",
       "    .dataframe tbody tr th:only-of-type {\n",
       "        vertical-align: middle;\n",
       "    }\n",
       "\n",
       "    .dataframe tbody tr th {\n",
       "        vertical-align: top;\n",
       "    }\n",
       "\n",
       "    .dataframe thead th {\n",
       "        text-align: right;\n",
       "    }\n",
       "</style>\n",
       "<table border=\"1\" class=\"dataframe\">\n",
       "  <thead>\n",
       "    <tr style=\"text-align: right;\">\n",
       "      <th></th>\n",
       "      <th>title</th>\n",
       "      <th>company</th>\n",
       "      <th>critic_score</th>\n",
       "    </tr>\n",
       "  </thead>\n",
       "  <tbody>\n",
       "    <tr>\n",
       "      <th>0</th>\n",
       "      <td>Super Mario Bros.</td>\n",
       "      <td>Nintendo</td>\n",
       "      <td>10.00</td>\n",
       "    </tr>\n",
       "    <tr>\n",
       "      <th>1</th>\n",
       "      <td>The Legend of Zelda Collector's Edition</td>\n",
       "      <td>Nintendo</td>\n",
       "      <td>10.00</td>\n",
       "    </tr>\n",
       "    <tr>\n",
       "      <th>2</th>\n",
       "      <td>The Legend of Zelda: Breath of the Wild</td>\n",
       "      <td>Nintendo</td>\n",
       "      <td>9.95</td>\n",
       "    </tr>\n",
       "    <tr>\n",
       "      <th>3</th>\n",
       "      <td>Super Mario Odyssey</td>\n",
       "      <td>Nintendo</td>\n",
       "      <td>9.90</td>\n",
       "    </tr>\n",
       "    <tr>\n",
       "      <th>4</th>\n",
       "      <td>The Legend of Zelda: Ocarina of Time</td>\n",
       "      <td>Nintendo</td>\n",
       "      <td>9.90</td>\n",
       "    </tr>\n",
       "    <tr>\n",
       "      <th>5</th>\n",
       "      <td>Super Mario Galaxy</td>\n",
       "      <td>Nintendo</td>\n",
       "      <td>9.70</td>\n",
       "    </tr>\n",
       "    <tr>\n",
       "      <th>6</th>\n",
       "      <td>Super Mario Bros. Deluxe</td>\n",
       "      <td>Nintendo</td>\n",
       "      <td>9.70</td>\n",
       "    </tr>\n",
       "    <tr>\n",
       "      <th>7</th>\n",
       "      <td>Super Mario 64</td>\n",
       "      <td>Nintendo</td>\n",
       "      <td>9.70</td>\n",
       "    </tr>\n",
       "    <tr>\n",
       "      <th>8</th>\n",
       "      <td>Super Mario Galaxy 2</td>\n",
       "      <td>Nintendo</td>\n",
       "      <td>9.70</td>\n",
       "    </tr>\n",
       "    <tr>\n",
       "      <th>9</th>\n",
       "      <td>The Legend of Zelda: A Link to the Past</td>\n",
       "      <td>Nintendo</td>\n",
       "      <td>9.60</td>\n",
       "    </tr>\n",
       "  </tbody>\n",
       "</table>\n",
       "</div>"
      ],
      "text/plain": [
       "                                     title   company  critic_score\n",
       "0                        Super Mario Bros.  Nintendo         10.00\n",
       "1  The Legend of Zelda Collector's Edition  Nintendo         10.00\n",
       "2  The Legend of Zelda: Breath of the Wild  Nintendo          9.95\n",
       "3                      Super Mario Odyssey  Nintendo          9.90\n",
       "4     The Legend of Zelda: Ocarina of Time  Nintendo          9.90\n",
       "5                       Super Mario Galaxy  Nintendo          9.70\n",
       "6                 Super Mario Bros. Deluxe  Nintendo          9.70\n",
       "7                           Super Mario 64  Nintendo          9.70\n",
       "8                     Super Mario Galaxy 2  Nintendo          9.70\n",
       "9  The Legend of Zelda: A Link to the Past  Nintendo          9.60"
      ]
     },
     "execution_count": 71,
     "metadata": {},
     "output_type": "execute_result"
    }
   ],
   "source": [
    "exclusives_top_nintendo = exclusive_nintendo_scores.head(10)\n",
    "exclusives_top_nintendo"
   ]
  },
  {
   "cell_type": "code",
   "execution_count": 72,
   "id": "5b5f9a11-9a64-4006-838f-d30b6765df79",
   "metadata": {
    "tags": []
   },
   "outputs": [],
   "source": [
    "exclusive_sony_scores = exclusives_sony_df.groupby([\"title\", \"company\"])[\"critic_score\"].mean().sort_values(ascending=False).reset_index()"
   ]
  },
  {
   "cell_type": "code",
   "execution_count": 73,
   "id": "0d403d84-73ef-499b-804f-8b4a113f26fa",
   "metadata": {
    "tags": []
   },
   "outputs": [
    {
     "data": {
      "text/html": [
       "<div>\n",
       "<style scoped>\n",
       "    .dataframe tbody tr th:only-of-type {\n",
       "        vertical-align: middle;\n",
       "    }\n",
       "\n",
       "    .dataframe tbody tr th {\n",
       "        vertical-align: top;\n",
       "    }\n",
       "\n",
       "    .dataframe thead th {\n",
       "        text-align: right;\n",
       "    }\n",
       "</style>\n",
       "<table border=\"1\" class=\"dataframe\">\n",
       "  <thead>\n",
       "    <tr style=\"text-align: right;\">\n",
       "      <th></th>\n",
       "      <th>title</th>\n",
       "      <th>company</th>\n",
       "      <th>critic_score</th>\n",
       "    </tr>\n",
       "  </thead>\n",
       "  <tbody>\n",
       "    <tr>\n",
       "      <th>0</th>\n",
       "      <td>God of War (2018)</td>\n",
       "      <td>Sony</td>\n",
       "      <td>9.7</td>\n",
       "    </tr>\n",
       "    <tr>\n",
       "      <th>1</th>\n",
       "      <td>Chrono Cross</td>\n",
       "      <td>Sony</td>\n",
       "      <td>9.7</td>\n",
       "    </tr>\n",
       "    <tr>\n",
       "      <th>2</th>\n",
       "      <td>Tekken 3</td>\n",
       "      <td>Sony</td>\n",
       "      <td>9.6</td>\n",
       "    </tr>\n",
       "    <tr>\n",
       "      <th>3</th>\n",
       "      <td>Grand Theft Auto: Vice City</td>\n",
       "      <td>Sony</td>\n",
       "      <td>9.6</td>\n",
       "    </tr>\n",
       "    <tr>\n",
       "      <th>4</th>\n",
       "      <td>The Last of Us Remastered</td>\n",
       "      <td>Sony</td>\n",
       "      <td>9.5</td>\n",
       "    </tr>\n",
       "    <tr>\n",
       "      <th>5</th>\n",
       "      <td>Uncharted 2: Among Thieves</td>\n",
       "      <td>Sony</td>\n",
       "      <td>9.5</td>\n",
       "    </tr>\n",
       "    <tr>\n",
       "      <th>6</th>\n",
       "      <td>LittleBigPlanet: Game of the Year Edition</td>\n",
       "      <td>Sony</td>\n",
       "      <td>9.5</td>\n",
       "    </tr>\n",
       "    <tr>\n",
       "      <th>7</th>\n",
       "      <td>Dragon Quest XI: Echoes of an Elusive Age</td>\n",
       "      <td>Sony</td>\n",
       "      <td>9.5</td>\n",
       "    </tr>\n",
       "    <tr>\n",
       "      <th>8</th>\n",
       "      <td>The Last of Us</td>\n",
       "      <td>Sony</td>\n",
       "      <td>9.5</td>\n",
       "    </tr>\n",
       "    <tr>\n",
       "      <th>9</th>\n",
       "      <td>Final Fantasy XII</td>\n",
       "      <td>Sony</td>\n",
       "      <td>9.4</td>\n",
       "    </tr>\n",
       "  </tbody>\n",
       "</table>\n",
       "</div>"
      ],
      "text/plain": [
       "                                       title company  critic_score\n",
       "0                          God of War (2018)    Sony           9.7\n",
       "1                               Chrono Cross    Sony           9.7\n",
       "2                                   Tekken 3    Sony           9.6\n",
       "3                Grand Theft Auto: Vice City    Sony           9.6\n",
       "4                  The Last of Us Remastered    Sony           9.5\n",
       "5                 Uncharted 2: Among Thieves    Sony           9.5\n",
       "6  LittleBigPlanet: Game of the Year Edition    Sony           9.5\n",
       "7  Dragon Quest XI: Echoes of an Elusive Age    Sony           9.5\n",
       "8                             The Last of Us    Sony           9.5\n",
       "9                          Final Fantasy XII    Sony           9.4"
      ]
     },
     "execution_count": 73,
     "metadata": {},
     "output_type": "execute_result"
    }
   ],
   "source": [
    "exclusives_top_sony = exclusive_sony_scores.head(10)\n",
    "exclusives_top_sony"
   ]
  },
  {
   "cell_type": "code",
   "execution_count": 74,
   "id": "475bcb00-9d8c-4fcf-816d-7323b0ff8678",
   "metadata": {
    "tags": []
   },
   "outputs": [],
   "source": [
    "exclusive_microsoft_scores = exclusives_microsoft_df.groupby([\"title\", \"company\"])[\"critic_score\"].mean().sort_values(ascending=False).reset_index()"
   ]
  },
  {
   "cell_type": "code",
   "execution_count": 75,
   "id": "f099a17f-0f2c-4cbd-a238-3395146724e0",
   "metadata": {
    "tags": []
   },
   "outputs": [
    {
     "data": {
      "text/html": [
       "<div>\n",
       "<style scoped>\n",
       "    .dataframe tbody tr th:only-of-type {\n",
       "        vertical-align: middle;\n",
       "    }\n",
       "\n",
       "    .dataframe tbody tr th {\n",
       "        vertical-align: top;\n",
       "    }\n",
       "\n",
       "    .dataframe thead th {\n",
       "        text-align: right;\n",
       "    }\n",
       "</style>\n",
       "<table border=\"1\" class=\"dataframe\">\n",
       "  <thead>\n",
       "    <tr style=\"text-align: right;\">\n",
       "      <th></th>\n",
       "      <th>title</th>\n",
       "      <th>company</th>\n",
       "      <th>critic_score</th>\n",
       "    </tr>\n",
       "  </thead>\n",
       "  <tbody>\n",
       "    <tr>\n",
       "      <th>0</th>\n",
       "      <td>Fusion: Genesis</td>\n",
       "      <td>Microsoft</td>\n",
       "      <td>10.0</td>\n",
       "    </tr>\n",
       "    <tr>\n",
       "      <th>1</th>\n",
       "      <td>Halo 2</td>\n",
       "      <td>Microsoft</td>\n",
       "      <td>9.6</td>\n",
       "    </tr>\n",
       "    <tr>\n",
       "      <th>2</th>\n",
       "      <td>Halo 3</td>\n",
       "      <td>Microsoft</td>\n",
       "      <td>9.6</td>\n",
       "    </tr>\n",
       "    <tr>\n",
       "      <th>3</th>\n",
       "      <td>Ninja Gaiden Black</td>\n",
       "      <td>Microsoft</td>\n",
       "      <td>9.5</td>\n",
       "    </tr>\n",
       "    <tr>\n",
       "      <th>4</th>\n",
       "      <td>Halo: Combat Evolved</td>\n",
       "      <td>Microsoft</td>\n",
       "      <td>9.5</td>\n",
       "    </tr>\n",
       "    <tr>\n",
       "      <th>5</th>\n",
       "      <td>Pinball FX 2</td>\n",
       "      <td>Microsoft</td>\n",
       "      <td>9.5</td>\n",
       "    </tr>\n",
       "    <tr>\n",
       "      <th>6</th>\n",
       "      <td>Star Wars: Knights of the Old Republic</td>\n",
       "      <td>Microsoft</td>\n",
       "      <td>9.4</td>\n",
       "    </tr>\n",
       "    <tr>\n",
       "      <th>7</th>\n",
       "      <td>Gears of War 2</td>\n",
       "      <td>Microsoft</td>\n",
       "      <td>9.4</td>\n",
       "    </tr>\n",
       "    <tr>\n",
       "      <th>8</th>\n",
       "      <td>Gears of War</td>\n",
       "      <td>Microsoft</td>\n",
       "      <td>9.4</td>\n",
       "    </tr>\n",
       "    <tr>\n",
       "      <th>9</th>\n",
       "      <td>SoulCalibur II(JP sales)</td>\n",
       "      <td>Microsoft</td>\n",
       "      <td>9.3</td>\n",
       "    </tr>\n",
       "  </tbody>\n",
       "</table>\n",
       "</div>"
      ],
      "text/plain": [
       "                                    title    company  critic_score\n",
       "0                         Fusion: Genesis  Microsoft          10.0\n",
       "1                                  Halo 2  Microsoft           9.6\n",
       "2                                  Halo 3  Microsoft           9.6\n",
       "3                      Ninja Gaiden Black  Microsoft           9.5\n",
       "4                    Halo: Combat Evolved  Microsoft           9.5\n",
       "5                            Pinball FX 2  Microsoft           9.5\n",
       "6  Star Wars: Knights of the Old Republic  Microsoft           9.4\n",
       "7                          Gears of War 2  Microsoft           9.4\n",
       "8                            Gears of War  Microsoft           9.4\n",
       "9                SoulCalibur II(JP sales)  Microsoft           9.3"
      ]
     },
     "execution_count": 75,
     "metadata": {},
     "output_type": "execute_result"
    }
   ],
   "source": [
    "exclusives_top_microsoft = exclusive_microsoft_scores.head(10)\n",
    "exclusives_top_microsoft"
   ]
  },
  {
   "cell_type": "code",
   "execution_count": 76,
   "id": "63b515fb-49f4-42bb-8f60-b526e846a1c8",
   "metadata": {
    "tags": []
   },
   "outputs": [],
   "source": [
    "top_exclusives_all = pd.concat([exclusives_top_sega, exclusives_top_nintendo, exclusives_top_sony, exclusives_top_microsoft])"
   ]
  },
  {
   "cell_type": "code",
   "execution_count": 77,
   "id": "1e2490bb-60d9-4543-9ebc-83da569fb5cb",
   "metadata": {
    "tags": []
   },
   "outputs": [
    {
     "data": {
      "image/png": "[encoded data removed]",
      "text/plain": [
       "<Figure size 1200x800 with 1 Axes>"
      ]
     },
     "metadata": {},
     "output_type": "display_data"
    }
   ],
   "source": [
    "plt.figure(figsize=(12, 8))\n",
    "exclusive_score_plot = sns.barplot(data=top_exclusives_all, x=\"critic_score\", y=\"title\", hue=\"company\", palette=[\"#17569B\", \"#FE0016\", \"#0d0d0d\", \"#0e7a0d\"], \n",
    "            orient=\"h\", dodge=False, saturation=0.8, ci=None, estimator=sum, \n",
    "            )\n",
    "\n",
    "plt.xlabel(\"Metacritic Score\")\n",
    "plt.ylabel(\"Titles\")\n",
    "plt.title(\"Top Rated Exclusives in Metacritic by Company\")\n",
    "plt.legend(title=\"Company\", bbox_to_anchor=(1.05, 1), loc=\"upper left\")\n",
    "\n",
    "for index, value in enumerate(top_exclusives_all[\"critic_score\"]):\n",
    "    plt.text(value, index, str(round(value, 2)), ha='left', fontsize=8)\n",
    "    \n",
    "plt.tight_layout()\n",
    "plt.show()"
   ]
  },
  {
   "cell_type": "code",
   "execution_count": 78,
   "id": "7802ea4f-0350-41ee-b069-de5d5d250f99",
   "metadata": {
    "tags": []
   },
   "outputs": [],
   "source": [
    "exclusives_all = pd.concat([exclusive_sega_scores, exclusive_nintendo_scores, exclusive_sony_scores, exclusive_microsoft_scores])"
   ]
  },
  {
   "cell_type": "code",
   "execution_count": 79,
   "id": "11d4cb44-1f2a-4db5-8c1b-67ccd56d8d20",
   "metadata": {
    "tags": []
   },
   "outputs": [],
   "source": [
    "exclusives_scores_avg = exclusives_all.groupby(\"company\")[\"critic_score\"].mean().sort_values(ascending=False).reset_index()"
   ]
  },
  {
   "cell_type": "code",
   "execution_count": 80,
   "id": "8d4170c7-a00b-43a8-9636-c7839e0a87f8",
   "metadata": {
    "tags": []
   },
   "outputs": [
    {
     "data": {
      "text/html": [
       "<div>\n",
       "<style scoped>\n",
       "    .dataframe tbody tr th:only-of-type {\n",
       "        vertical-align: middle;\n",
       "    }\n",
       "\n",
       "    .dataframe tbody tr th {\n",
       "        vertical-align: top;\n",
       "    }\n",
       "\n",
       "    .dataframe thead th {\n",
       "        text-align: right;\n",
       "    }\n",
       "</style>\n",
       "<table border=\"1\" class=\"dataframe\">\n",
       "  <thead>\n",
       "    <tr style=\"text-align: right;\">\n",
       "      <th></th>\n",
       "      <th>company</th>\n",
       "      <th>critic_score</th>\n",
       "    </tr>\n",
       "  </thead>\n",
       "  <tbody>\n",
       "    <tr>\n",
       "      <th>0</th>\n",
       "      <td>Sony</td>\n",
       "      <td>7.258699</td>\n",
       "    </tr>\n",
       "    <tr>\n",
       "      <th>1</th>\n",
       "      <td>Microsoft</td>\n",
       "      <td>7.219279</td>\n",
       "    </tr>\n",
       "    <tr>\n",
       "      <th>2</th>\n",
       "      <td>Sega</td>\n",
       "      <td>7.122561</td>\n",
       "    </tr>\n",
       "    <tr>\n",
       "      <th>3</th>\n",
       "      <td>Nintendo</td>\n",
       "      <td>7.064569</td>\n",
       "    </tr>\n",
       "  </tbody>\n",
       "</table>\n",
       "</div>"
      ],
      "text/plain": [
       "     company  critic_score\n",
       "0       Sony      7.258699\n",
       "1  Microsoft      7.219279\n",
       "2       Sega      7.122561\n",
       "3   Nintendo      7.064569"
      ]
     },
     "execution_count": 80,
     "metadata": {},
     "output_type": "execute_result"
    }
   ],
   "source": [
    "exclusives_scores_avg"
   ]
  },
  {
   "cell_type": "code",
   "execution_count": 81,
   "id": "47b819f0-5577-4f8c-902f-73572ff11e5d",
   "metadata": {
    "tags": []
   },
   "outputs": [
    {
     "data": {
      "image/png": "[encoded data removed]",
      "text/plain": [
       "<Figure size 1200x400 with 1 Axes>"
      ]
     },
     "metadata": {},
     "output_type": "display_data"
    }
   ],
   "source": [
    "plt.figure(figsize=(12, 4))\n",
    "exclusive_avg_plot = sns.barplot(data=exclusives_scores_avg, x=\"critic_score\", y=\"company\", palette=[\"#0d0d0d\", \"#0e7a0d\", \"#17569B\", \"#FE0016\"], \n",
    "            orient=\"h\", dodge=False, saturation=0.8, ci=None, estimator=sum, \n",
    "            )\n",
    "\n",
    "plt.xlabel(\"Metacritic Average Score\")\n",
    "plt.ylabel(\"Company\")\n",
    "plt.title(\"Metracritic Average Score by Company\")\n",
    "\n",
    "for index, value in enumerate(exclusives_scores_avg[\"critic_score\"]):\n",
    "    plt.text(value, index, str(round(value, 2)), ha='left', fontsize=8)\n",
    "    \n",
    "plt.tight_layout()\n",
    "plt.show()"
   ]
  },
  {
   "cell_type": "markdown",
   "id": "13d1c99c-e3bc-4a60-aa4b-7625527158db",
   "metadata": {},
   "source": [
    "<h3 style=\"color: #60b671;\">Mutiplatform Releases Vs Exclusive Releases</h3>"
   ]
  },
  {
   "cell_type": "code",
   "execution_count": 82,
   "id": "41a8b431-9ae8-45c0-929a-b306e671c63e",
   "metadata": {
    "tags": []
   },
   "outputs": [],
   "source": [
    "all_exclusives = list(titles_exclusives[\"title\"])"
   ]
  },
  {
   "cell_type": "code",
   "execution_count": 83,
   "id": "88c7f38d-4f0d-4959-93a8-00cccb6c3fc1",
   "metadata": {
    "tags": []
   },
   "outputs": [],
   "source": [
    "exclusive_titles_df = df[df[\"title\"].isin(all_exclusives)]"
   ]
  },
  {
   "cell_type": "code",
   "execution_count": 84,
   "id": "4ac76dd5-8abd-48ab-9391-66c82ffdd2ec",
   "metadata": {
    "tags": []
   },
   "outputs": [
    {
     "data": {
      "text/html": [
       "<div>\n",
       "<style scoped>\n",
       "    .dataframe tbody tr th:only-of-type {\n",
       "        vertical-align: middle;\n",
       "    }\n",
       "\n",
       "    .dataframe tbody tr th {\n",
       "        vertical-align: top;\n",
       "    }\n",
       "\n",
       "    .dataframe thead th {\n",
       "        text-align: right;\n",
       "    }\n",
       "</style>\n",
       "<table border=\"1\" class=\"dataframe\">\n",
       "  <thead>\n",
       "    <tr style=\"text-align: right;\">\n",
       "      <th></th>\n",
       "      <th>title</th>\n",
       "      <th>platform</th>\n",
       "      <th>company</th>\n",
       "      <th>genre</th>\n",
       "      <th>publisher</th>\n",
       "      <th>critic_score</th>\n",
       "      <th>total_sales</th>\n",
       "      <th>release_date</th>\n",
       "    </tr>\n",
       "  </thead>\n",
       "  <tbody>\n",
       "    <tr>\n",
       "      <th>2</th>\n",
       "      <td>Grand Theft Auto: Vice City</td>\n",
       "      <td>PlayStation 2</td>\n",
       "      <td>Sony</td>\n",
       "      <td>Action</td>\n",
       "      <td>Rockstar Games</td>\n",
       "      <td>9.6</td>\n",
       "      <td>16.15</td>\n",
       "      <td>2002-10-28</td>\n",
       "    </tr>\n",
       "    <tr>\n",
       "      <th>22</th>\n",
       "      <td>Halo: Reach</td>\n",
       "      <td>Xbox 360</td>\n",
       "      <td>Microsoft</td>\n",
       "      <td>Shooter</td>\n",
       "      <td>Microsoft Game Studios</td>\n",
       "      <td>9.3</td>\n",
       "      <td>9.97</td>\n",
       "      <td>2010-09-14</td>\n",
       "    </tr>\n",
       "    <tr>\n",
       "      <th>23</th>\n",
       "      <td>Halo 4</td>\n",
       "      <td>Xbox 360</td>\n",
       "      <td>Microsoft</td>\n",
       "      <td>Shooter</td>\n",
       "      <td>Microsoft Studios</td>\n",
       "      <td>NaN</td>\n",
       "      <td>9.96</td>\n",
       "      <td>2012-11-06</td>\n",
       "    </tr>\n",
       "    <tr>\n",
       "      <th>35</th>\n",
       "      <td>Grand Theft Auto: Liberty City Stories</td>\n",
       "      <td>PlayStation Portable</td>\n",
       "      <td>Sony</td>\n",
       "      <td>Action</td>\n",
       "      <td>Rockstar Games</td>\n",
       "      <td>8.8</td>\n",
       "      <td>7.72</td>\n",
       "      <td>2005-10-25</td>\n",
       "    </tr>\n",
       "    <tr>\n",
       "      <th>46</th>\n",
       "      <td>Uncharted 2: Among Thieves</td>\n",
       "      <td>PlayStation 3</td>\n",
       "      <td>Sony</td>\n",
       "      <td>Action</td>\n",
       "      <td>Sony Computer Entertainment</td>\n",
       "      <td>9.5</td>\n",
       "      <td>6.74</td>\n",
       "      <td>2009-10-13</td>\n",
       "    </tr>\n",
       "    <tr>\n",
       "      <th>...</th>\n",
       "      <td>...</td>\n",
       "      <td>...</td>\n",
       "      <td>...</td>\n",
       "      <td>...</td>\n",
       "      <td>...</td>\n",
       "      <td>...</td>\n",
       "      <td>...</td>\n",
       "      <td>...</td>\n",
       "    </tr>\n",
       "    <tr>\n",
       "      <th>63974</th>\n",
       "      <td>The Silver Case</td>\n",
       "      <td>PlayStation</td>\n",
       "      <td>Sony</td>\n",
       "      <td>Visual Novel</td>\n",
       "      <td>ASCII Entertainment</td>\n",
       "      <td>NaN</td>\n",
       "      <td>NaN</td>\n",
       "      <td>1999-10-07</td>\n",
       "    </tr>\n",
       "    <tr>\n",
       "      <th>63985</th>\n",
       "      <td>Tlicolity Eyes: Twinkle Snowtime</td>\n",
       "      <td>Nintendo Switch</td>\n",
       "      <td>Nintendo</td>\n",
       "      <td>Visual Novel</td>\n",
       "      <td>Idea Factory</td>\n",
       "      <td>NaN</td>\n",
       "      <td>NaN</td>\n",
       "      <td>2019-07-18</td>\n",
       "    </tr>\n",
       "    <tr>\n",
       "      <th>63997</th>\n",
       "      <td>Variable Barricade</td>\n",
       "      <td>PlayStation Vita</td>\n",
       "      <td>Sony</td>\n",
       "      <td>Visual Novel</td>\n",
       "      <td>Idea Factory</td>\n",
       "      <td>NaN</td>\n",
       "      <td>NaN</td>\n",
       "      <td>2019-04-04</td>\n",
       "    </tr>\n",
       "    <tr>\n",
       "      <th>64014</th>\n",
       "      <td>Yunohana SpRING! ~Mellow Times~</td>\n",
       "      <td>Nintendo Switch</td>\n",
       "      <td>Nintendo</td>\n",
       "      <td>Visual Novel</td>\n",
       "      <td>Idea Factory</td>\n",
       "      <td>NaN</td>\n",
       "      <td>NaN</td>\n",
       "      <td>2019-02-28</td>\n",
       "    </tr>\n",
       "    <tr>\n",
       "      <th>64015</th>\n",
       "      <td>Yurukill: The Calumniation Games</td>\n",
       "      <td>PlayStation 4</td>\n",
       "      <td>Sony</td>\n",
       "      <td>Visual Novel</td>\n",
       "      <td>Unknown</td>\n",
       "      <td>NaN</td>\n",
       "      <td>NaN</td>\n",
       "      <td>NaT</td>\n",
       "    </tr>\n",
       "  </tbody>\n",
       "</table>\n",
       "<p>24712 rows × 8 columns</p>\n",
       "</div>"
      ],
      "text/plain": [
       "                                        title              platform  \\\n",
       "2                 Grand Theft Auto: Vice City         PlayStation 2   \n",
       "22                                Halo: Reach              Xbox 360   \n",
       "23                                     Halo 4              Xbox 360   \n",
       "35     Grand Theft Auto: Liberty City Stories  PlayStation Portable   \n",
       "46                 Uncharted 2: Among Thieves         PlayStation 3   \n",
       "...                                       ...                   ...   \n",
       "63974                         The Silver Case           PlayStation   \n",
       "63985        Tlicolity Eyes: Twinkle Snowtime       Nintendo Switch   \n",
       "63997                      Variable Barricade      PlayStation Vita   \n",
       "64014         Yunohana SpRING! ~Mellow Times~       Nintendo Switch   \n",
       "64015        Yurukill: The Calumniation Games         PlayStation 4   \n",
       "\n",
       "         company         genre                    publisher  critic_score  \\\n",
       "2           Sony        Action               Rockstar Games           9.6   \n",
       "22     Microsoft       Shooter       Microsoft Game Studios           9.3   \n",
       "23     Microsoft       Shooter            Microsoft Studios           NaN   \n",
       "35          Sony        Action               Rockstar Games           8.8   \n",
       "46          Sony        Action  Sony Computer Entertainment           9.5   \n",
       "...          ...           ...                          ...           ...   \n",
       "63974       Sony  Visual Novel          ASCII Entertainment           NaN   \n",
       "63985   Nintendo  Visual Novel                 Idea Factory           NaN   \n",
       "63997       Sony  Visual Novel                 Idea Factory           NaN   \n",
       "64014   Nintendo  Visual Novel                 Idea Factory           NaN   \n",
       "64015       Sony  Visual Novel                      Unknown           NaN   \n",
       "\n",
       "       total_sales release_date  \n",
       "2            16.15   2002-10-28  \n",
       "22            9.97   2010-09-14  \n",
       "23            9.96   2012-11-06  \n",
       "35            7.72   2005-10-25  \n",
       "46            6.74   2009-10-13  \n",
       "...            ...          ...  \n",
       "63974          NaN   1999-10-07  \n",
       "63985          NaN   2019-07-18  \n",
       "63997          NaN   2019-04-04  \n",
       "64014          NaN   2019-02-28  \n",
       "64015          NaN          NaT  \n",
       "\n",
       "[24712 rows x 8 columns]"
      ]
     },
     "execution_count": 84,
     "metadata": {},
     "output_type": "execute_result"
    }
   ],
   "source": [
    "exclusive_titles_df"
   ]
  },
  {
   "cell_type": "code",
   "execution_count": 85,
   "id": "a909afc8-e27a-4683-890c-ed2862e5def7",
   "metadata": {
    "tags": []
   },
   "outputs": [],
   "source": [
    "multiplatform_titles_df = df[~df[\"title\"].isin(all_exclusives)]"
   ]
  },
  {
   "cell_type": "code",
   "execution_count": 86,
   "id": "5c58e3c6-d6af-40da-9890-4846ab6fad91",
   "metadata": {
    "tags": []
   },
   "outputs": [
    {
     "data": {
      "text/html": [
       "<div>\n",
       "<style scoped>\n",
       "    .dataframe tbody tr th:only-of-type {\n",
       "        vertical-align: middle;\n",
       "    }\n",
       "\n",
       "    .dataframe tbody tr th {\n",
       "        vertical-align: top;\n",
       "    }\n",
       "\n",
       "    .dataframe thead th {\n",
       "        text-align: right;\n",
       "    }\n",
       "</style>\n",
       "<table border=\"1\" class=\"dataframe\">\n",
       "  <thead>\n",
       "    <tr style=\"text-align: right;\">\n",
       "      <th></th>\n",
       "      <th>title</th>\n",
       "      <th>platform</th>\n",
       "      <th>company</th>\n",
       "      <th>genre</th>\n",
       "      <th>publisher</th>\n",
       "      <th>critic_score</th>\n",
       "      <th>total_sales</th>\n",
       "      <th>release_date</th>\n",
       "    </tr>\n",
       "  </thead>\n",
       "  <tbody>\n",
       "    <tr>\n",
       "      <th>0</th>\n",
       "      <td>Grand Theft Auto V</td>\n",
       "      <td>PlayStation 3</td>\n",
       "      <td>Sony</td>\n",
       "      <td>Action</td>\n",
       "      <td>Rockstar Games</td>\n",
       "      <td>9.4</td>\n",
       "      <td>20.32</td>\n",
       "      <td>2013-09-17</td>\n",
       "    </tr>\n",
       "    <tr>\n",
       "      <th>1</th>\n",
       "      <td>Grand Theft Auto V</td>\n",
       "      <td>PlayStation 4</td>\n",
       "      <td>Sony</td>\n",
       "      <td>Action</td>\n",
       "      <td>Rockstar Games</td>\n",
       "      <td>9.7</td>\n",
       "      <td>19.39</td>\n",
       "      <td>2014-11-18</td>\n",
       "    </tr>\n",
       "    <tr>\n",
       "      <th>3</th>\n",
       "      <td>Grand Theft Auto V</td>\n",
       "      <td>Xbox 360</td>\n",
       "      <td>Microsoft</td>\n",
       "      <td>Action</td>\n",
       "      <td>Rockstar Games</td>\n",
       "      <td>NaN</td>\n",
       "      <td>15.86</td>\n",
       "      <td>2013-09-17</td>\n",
       "    </tr>\n",
       "    <tr>\n",
       "      <th>4</th>\n",
       "      <td>Call of Duty: Black Ops 3</td>\n",
       "      <td>PlayStation 4</td>\n",
       "      <td>Sony</td>\n",
       "      <td>Shooter</td>\n",
       "      <td>Activision</td>\n",
       "      <td>8.1</td>\n",
       "      <td>15.09</td>\n",
       "      <td>2015-11-06</td>\n",
       "    </tr>\n",
       "    <tr>\n",
       "      <th>5</th>\n",
       "      <td>Call of Duty: Modern Warfare 3</td>\n",
       "      <td>Xbox 360</td>\n",
       "      <td>Microsoft</td>\n",
       "      <td>Shooter</td>\n",
       "      <td>Activision</td>\n",
       "      <td>8.7</td>\n",
       "      <td>14.82</td>\n",
       "      <td>2011-11-08</td>\n",
       "    </tr>\n",
       "    <tr>\n",
       "      <th>...</th>\n",
       "      <td>...</td>\n",
       "      <td>...</td>\n",
       "      <td>...</td>\n",
       "      <td>...</td>\n",
       "      <td>...</td>\n",
       "      <td>...</td>\n",
       "      <td>...</td>\n",
       "      <td>...</td>\n",
       "    </tr>\n",
       "    <tr>\n",
       "      <th>64005</th>\n",
       "      <td>Witch on the Holy Night</td>\n",
       "      <td>PlayStation 4</td>\n",
       "      <td>Sony</td>\n",
       "      <td>Visual Novel</td>\n",
       "      <td>Type-Moon</td>\n",
       "      <td>NaN</td>\n",
       "      <td>NaN</td>\n",
       "      <td>2022-12-08</td>\n",
       "    </tr>\n",
       "    <tr>\n",
       "      <th>64009</th>\n",
       "      <td>World End Syndrome</td>\n",
       "      <td>PlayStation Vita</td>\n",
       "      <td>Sony</td>\n",
       "      <td>Visual Novel</td>\n",
       "      <td>Arc System Works</td>\n",
       "      <td>NaN</td>\n",
       "      <td>NaN</td>\n",
       "      <td>2018-04-26</td>\n",
       "    </tr>\n",
       "    <tr>\n",
       "      <th>64010</th>\n",
       "      <td>World End Syndrome</td>\n",
       "      <td>PlayStation 4</td>\n",
       "      <td>Sony</td>\n",
       "      <td>Visual Novel</td>\n",
       "      <td>Arc System Works</td>\n",
       "      <td>NaN</td>\n",
       "      <td>NaN</td>\n",
       "      <td>2018-04-26</td>\n",
       "    </tr>\n",
       "    <tr>\n",
       "      <th>64012</th>\n",
       "      <td>Yoru, Tomosu</td>\n",
       "      <td>PlayStation 4</td>\n",
       "      <td>Sony</td>\n",
       "      <td>Visual Novel</td>\n",
       "      <td>Nippon Ichi Software</td>\n",
       "      <td>NaN</td>\n",
       "      <td>NaN</td>\n",
       "      <td>2020-07-30</td>\n",
       "    </tr>\n",
       "    <tr>\n",
       "      <th>64013</th>\n",
       "      <td>Yoru, Tomosu</td>\n",
       "      <td>Nintendo Switch</td>\n",
       "      <td>Nintendo</td>\n",
       "      <td>Visual Novel</td>\n",
       "      <td>Nippon Ichi Software</td>\n",
       "      <td>NaN</td>\n",
       "      <td>NaN</td>\n",
       "      <td>2020-07-30</td>\n",
       "    </tr>\n",
       "  </tbody>\n",
       "</table>\n",
       "<p>17439 rows × 8 columns</p>\n",
       "</div>"
      ],
      "text/plain": [
       "                                title          platform    company  \\\n",
       "0                  Grand Theft Auto V     PlayStation 3       Sony   \n",
       "1                  Grand Theft Auto V     PlayStation 4       Sony   \n",
       "3                  Grand Theft Auto V          Xbox 360  Microsoft   \n",
       "4           Call of Duty: Black Ops 3     PlayStation 4       Sony   \n",
       "5      Call of Duty: Modern Warfare 3          Xbox 360  Microsoft   \n",
       "...                               ...               ...        ...   \n",
       "64005         Witch on the Holy Night     PlayStation 4       Sony   \n",
       "64009              World End Syndrome  PlayStation Vita       Sony   \n",
       "64010              World End Syndrome     PlayStation 4       Sony   \n",
       "64012                    Yoru, Tomosu     PlayStation 4       Sony   \n",
       "64013                    Yoru, Tomosu   Nintendo Switch   Nintendo   \n",
       "\n",
       "              genre             publisher  critic_score  total_sales  \\\n",
       "0            Action        Rockstar Games           9.4        20.32   \n",
       "1            Action        Rockstar Games           9.7        19.39   \n",
       "3            Action        Rockstar Games           NaN        15.86   \n",
       "4           Shooter            Activision           8.1        15.09   \n",
       "5           Shooter            Activision           8.7        14.82   \n",
       "...             ...                   ...           ...          ...   \n",
       "64005  Visual Novel             Type-Moon           NaN          NaN   \n",
       "64009  Visual Novel      Arc System Works           NaN          NaN   \n",
       "64010  Visual Novel      Arc System Works           NaN          NaN   \n",
       "64012  Visual Novel  Nippon Ichi Software           NaN          NaN   \n",
       "64013  Visual Novel  Nippon Ichi Software           NaN          NaN   \n",
       "\n",
       "      release_date  \n",
       "0       2013-09-17  \n",
       "1       2014-11-18  \n",
       "3       2013-09-17  \n",
       "4       2015-11-06  \n",
       "5       2011-11-08  \n",
       "...            ...  \n",
       "64005   2022-12-08  \n",
       "64009   2018-04-26  \n",
       "64010   2018-04-26  \n",
       "64012   2020-07-30  \n",
       "64013   2020-07-30  \n",
       "\n",
       "[17439 rows x 8 columns]"
      ]
     },
     "execution_count": 86,
     "metadata": {},
     "output_type": "execute_result"
    }
   ],
   "source": [
    "multiplatform_titles_df"
   ]
  },
  {
   "cell_type": "code",
   "execution_count": 87,
   "id": "a84e290e-eb71-44e1-a03d-beaebe4d85b1",
   "metadata": {
    "tags": []
   },
   "outputs": [],
   "source": [
    "exclusive_releases = exclusive_titles_df.groupby(\"release_date\")[\"title\"].count().reset_index()"
   ]
  },
  {
   "cell_type": "code",
   "execution_count": 88,
   "id": "0f958de6-c8b9-4106-982f-03561e937e1b",
   "metadata": {
    "tags": []
   },
   "outputs": [],
   "source": [
    "exclusive_releases.rename(columns={\"title\":\"exclusives\"}, inplace=True)"
   ]
  },
  {
   "cell_type": "code",
   "execution_count": 89,
   "id": "59ca9d93-c9df-4386-8f9d-7b551b6f3147",
   "metadata": {
    "tags": []
   },
   "outputs": [],
   "source": [
    "multiplatform_releases = multiplatform_titles_df.groupby(\"release_date\")[\"title\"].count().reset_index()"
   ]
  },
  {
   "cell_type": "code",
   "execution_count": 90,
   "id": "fb75a43e-6ca4-4902-831c-10eb646f0aff",
   "metadata": {
    "tags": []
   },
   "outputs": [],
   "source": [
    "multiplatform_releases.rename(columns={\"title\":\"multiplatform\"}, inplace=True)"
   ]
  },
  {
   "cell_type": "code",
   "execution_count": 91,
   "id": "27e8220f-51e7-4ed6-91ff-9033e948e1b4",
   "metadata": {
    "tags": []
   },
   "outputs": [],
   "source": [
    "ex_mult_releases = pd.merge(exclusive_releases, multiplatform_releases, how=\"outer\")"
   ]
  },
  {
   "cell_type": "code",
   "execution_count": 92,
   "id": "326fab12-a8ca-4083-80b4-362d2bd9cc60",
   "metadata": {
    "tags": []
   },
   "outputs": [],
   "source": [
    "#Let's erase indexex from 0 to 7, there are entries that says nothing and will spoil the plot\n",
    "\n",
    "ex_mult_releases = ex_mult_releases.drop(index=range(0,8))"
   ]
  },
  {
   "cell_type": "code",
   "execution_count": 93,
   "id": "4ee6fb33-8884-40af-be28-5d9d8c1c8b1a",
   "metadata": {
    "tags": []
   },
   "outputs": [],
   "source": [
    "ex_mult_releases = ex_mult_releases.set_index(\"release_date\").resample(\"Y\").sum().reset_index()"
   ]
  },
  {
   "cell_type": "code",
   "execution_count": 94,
   "id": "12d93c68-8b40-4527-abc2-32b96c14a29c",
   "metadata": {
    "tags": []
   },
   "outputs": [
    {
     "data": {
      "image/png": "[encoded data removed]",
      "text/plain": [
       "<Figure size 1200x400 with 1 Axes>"
      ]
     },
     "metadata": {},
     "output_type": "display_data"
    }
   ],
   "source": [
    "pair_colors = [\"#006FCD\", \"#FE0016\"]\n",
    "\n",
    "plt.figure(figsize=(12,4))\n",
    "\n",
    "for index, column in enumerate(ex_mult_releases.columns[1:]):\n",
    "    plt.plot(ex_mult_releases[\"release_date\"], ex_mult_releases[column], label=column, color=pair_colors[index])\n",
    "    plt.fill_between(ex_mult_releases[\"release_date\"], ex_mult_releases[column], color=pair_colors[index], alpha=0.6)\n",
    "\n",
    "plt.title(\"Comparison between Exclusive and Multiplatform Releases\")\n",
    "plt.xlabel(\"Years\")\n",
    "plt.ylabel(\"N of Releases\")\n",
    "ex_multi_labels = [\"Exclusives\",\"Multiplatform\"]\n",
    "plt.legend(title=\"Exclusives vs Multiplatform\", bbox_to_anchor=(1.05, 1), loc=\"upper left\")\n",
    "plt.show()"
   ]
  },
  {
   "cell_type": "markdown",
   "id": "8721cd17-e8b9-4ce6-93bd-835e362026d8",
   "metadata": {},
   "source": [
    "<h1 style=\"color: #492c68;\">03 | Dataset export to Viz</h1>"
   ]
  },
  {
   "cell_type": "markdown",
   "id": "8de3a8a9-adc5-47e2-be1b-a3f74dcfd923",
   "metadata": {},
   "source": [
    "- Exporting a new excel to do a power bi visualization"
   ]
  },
  {
   "cell_type": "code",
   "execution_count": 95,
   "id": "4b4c7531-c29e-42ed-ac90-71fe22fb52ec",
   "metadata": {
    "tags": []
   },
   "outputs": [],
   "source": [
    "df.to_excel(\"vg_war.xlsx\", index=False)"
   ]
  }
 ],
 "metadata": {
  "kernelspec": {
   "display_name": "Python 3 (ipykernel)",
   "language": "python",
   "name": "python3"
  },
  "language_info": {
   "codemirror_mode": {
    "name": "ipython",
    "version": 3
   },
   "file_extension": ".py",
   "mimetype": "text/x-python",
   "name": "python",
   "nbconvert_exporter": "python",
   "pygments_lexer": "ipython3",
   "version": "3.11.5"
  }
 },
 "nbformat": 4,
 "nbformat_minor": 5
}
